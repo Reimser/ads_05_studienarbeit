{
 "cells": [
  {
   "cell_type": "markdown",
   "id": "6eba1f48-656e-44ac-8969-0e98cd9d87ec",
   "metadata": {},
   "source": [
    "# DWH bauen"
   ]
  },
  {
   "cell_type": "markdown",
   "id": "8aaba45f-b982-4273-a94b-aedc17ce5a85",
   "metadata": {},
   "source": [
    "# Import"
   ]
  },
  {
   "cell_type": "code",
   "execution_count": null,
   "id": "b9c5bf56-a39a-4e57-9c0f-37daa2252b66",
   "metadata": {},
   "outputs": [],
   "source": [
    "import os\n",
    "from datetime import datetime\n",
    "import pandas as pd\n",
    "import requests\n",
    "from bs4 import BeautifulSoup\n",
    "from glob import glob\n",
    "from sqlalchemy import create_engine"
   ]
  },
  {
   "cell_type": "code",
   "execution_count": null,
   "id": "6c5b2404-a326-40dc-8d7d-c3eaa5247d5d",
   "metadata": {},
   "outputs": [],
   "source": [
    "stopwords_url = \"https://raw.githubusercontent.com/solariz/german_stopwords/master/german_stopwords_full.txt\"\n",
    "stopwords_list = requests.get(stopwords_url, allow_redirects=True).text.split(\"\\n\")[9:]"
   ]
  },
  {
   "cell_type": "markdown",
   "id": "74540628-c6e9-4fb7-9fe0-ef64ce7da2b6",
   "metadata": {},
   "source": [
    "# Funktionen definieren"
   ]
  },
  {
   "cell_type": "code",
   "execution_count": 1,
   "id": "cf21b998-f481-4642-8a8d-15e5eb9feade",
   "metadata": {
    "tags": []
   },
   "outputs": [],
   "source": [
    "def read_html_file(file_name, encoding=\"utf-8\"):\n",
    "    with open(file_name, \"r\", encoding=encoding) as f:\n",
    "        text = f.read()\n",
    "    return text\n",
    "\n",
    "\n",
    "def process_html(text):\n",
    "    text = BeautifulSoup(text, \"html.parser\").text\n",
    "    items = text.replace(\"\\n\", \" \").replace(\"\\t\", \" \").lower().split(\" \")\n",
    "    items = [i for i in items if len(i) > 2 and i not in stopwords_list]\n",
    "    return items\n",
    "\n",
    "def parse_html(name, date, file_name, encoding):\n",
    "    content = read_html_file(file_name, encoding)\n",
    "    soup = BeautifulSoup(content, \"html.parser\")\n",
    "    text = soup.text\n",
    "    items = process_html(text)\n",
    "    item_count = pd.Series(items).value_counts()\n",
    "    count = item_count.to_frame()\n",
    "    count.columns = [\"count\"]\n",
    "    count[\"word\"] = count.index\n",
    "    count[\"date\"] = date\n",
    "    count[\"paper\"] = name\n",
    "    return count\n",
    "\n",
    "def parse_csv_files_in_directory(directory):\n",
    "    result_list = []  \n",
    "\n",
    "    csv_filename_list = glob(os.path.join(directory, \"*.csv\"))\n",
    "\n",
    "    for csv_file in csv_filename_list:\n",
    "        df = pd.read_csv(csv_file)\n",
    "\n",
    "        df2 = df.dropna()\n",
    "        for i, row in df2.iterrows():\n",
    "            name = row[\"name\"]\n",
    "            file_name = row[\"file_name\"]\n",
    "            date = row[\"date\"]\n",
    "            encoding = row[\"encoding\"]\n",
    "\n",
    "            if os.path.exists(file_name):\n",
    "                count = parse_html(name, date, file_name, encoding)\n",
    "                \n",
    "                result_list.append(count)\n",
    "            else:\n",
    "                print(f\"Datei nicht gefunden: {file_name}\")\n",
    "\n",
    "    if result_list:\n",
    "        final_result_df = pd.concat(result_list, ignore_index=True)\n",
    "        return final_result_df\n",
    "    else:\n",
    "        return pd.DataFrame()"
   ]
  },
  {
   "cell_type": "markdown",
   "id": "2ce9a3fc-587d-436b-a17a-1df24a39cd87",
   "metadata": {},
   "source": [
    "# Csv anpassen"
   ]
  },
  {
   "cell_type": "code",
   "execution_count": null,
   "id": "46036f61-2b68-4255-b460-f76e3b1318cb",
   "metadata": {
    "tags": []
   },
   "outputs": [],
   "source": [
    "DATA_LAKE_DIR = \"input/data-lake\"\n",
    "\n",
    "behalten = [\"sz\", \"zeit\", \"faz\", \"heise\", \"golem\", \"tagesspiegel\", \"taz\", \"abendblatt\", \"berliner\", \"welt\", \"esslinger\", \"ntv\", \"pioneer\", \"suedwest\", \"uebermedien\", \"dlf\", \"spiegel\", \"stern\", \"tagesschau\", \"wiwo\"]\n",
    "\n",
    "for file_name in os.listdir(DATA_LAKE_DIR):\n",
    "    if file_name.endswith(\".csv\"):\n",
    "        file_path = os.path.join(DATA_LAKE_DIR, file_name)\n",
    " \n",
    "        # CSV-Datei einlesen\n",
    "        df = pd.read_csv(file_path)\n",
    "\n",
    "        # Überprüfen, ob die Spalte 'name' existiert\n",
    "        if \"name\" in df.columns:\n",
    "            # Behalten nur der Zeilen, deren 'name' in der Liste 'behalten' enthalten ist\n",
    "            df = df[df[\"name\"].isin(behalten)]\n",
    " \n",
    "            # Speichern der bearbeiteten CSV-Datei\n",
    "            df.to_csv(file_path, index=False)\n",
    "        else:\n",
    "            print(f\"Die Datei ist leer: {file_name}\")\n"
   ]
  },
  {
   "cell_type": "code",
   "execution_count": null,
   "id": "7f91ac96-5a75-4251-b676-ab4c8c5f6baa",
   "metadata": {},
   "outputs": [],
   "source": [
    "# Funktion um nach bestimmten Wörtern zu filtern\n",
    "def filter_words(df, column, keywords):\n",
    "    \n",
    "    def extract_keyword(text):\n",
    "        for keyword in keywords:\n",
    "            if keyword in text:\n",
    "                return keyword\n",
    "        return None  \n",
    "\n",
    "    \n",
    "    df[column] = df[column].apply(extract_keyword)\n",
    "    return df\n"
   ]
  },
  {
   "cell_type": "code",
   "execution_count": null,
   "id": "17faeccc-c3cb-47f5-967b-62e14233e50a",
   "metadata": {
    "tags": []
   },
   "outputs": [],
   "source": [
    "result = parse_csv_files_in_directory(\"input/data-lake\")"
   ]
  },
  {
   "cell_type": "code",
   "execution_count": null,
   "id": "0a9fc277-2193-473d-a611-bae8de8a18f6",
   "metadata": {
    "tags": []
   },
   "outputs": [],
   "source": [
    "# Die Liste der zu filternden Parteien\n",
    "keywords = ['spd', 'cdu', 'afd', 'fdp', 'grünen', 'linke']\n",
    "\n",
    "filtered_df = filter_words(result, 'word', keywords)"
   ]
  },
  {
   "cell_type": "code",
   "execution_count": null,
   "id": "58c51469-98c9-47b9-b411-b63995919ad4",
   "metadata": {
    "tags": []
   },
   "outputs": [],
   "source": [
    "result=result.dropna().reset_index()"
   ]
  },
  {
   "cell_type": "code",
   "execution_count": null,
   "id": "fe0f8009-0422-4251-8c81-3577ea65a11b",
   "metadata": {
    "tags": []
   },
   "outputs": [],
   "source": [
    "party_df=result.copy()\n",
    "party_df.head()"
   ]
  },
  {
   "cell_type": "markdown",
   "id": "09abe66c-8f72-4f56-8a9e-d752d7976a07",
   "metadata": {},
   "source": [
    "# wahlen csv einlesen"
   ]
  },
  {
   "cell_type": "code",
   "execution_count": null,
   "id": "47737ce8-d3ca-440a-a7ca-1caa16ae9667",
   "metadata": {
    "tags": []
   },
   "outputs": [],
   "source": [
    "wahlen_df = pd.read_csv('wahlen.csv', delimiter=';', usecols=[0,1, 2, 3, 4, 5, 6], parse_dates=[1], dayfirst=True)\n",
    "wahlen_df.columns = ['date', 'CDU', 'SPD', 'Grüne', 'FDP', 'Linke', 'AfD'] \n",
    "wahlen_df['date'] = pd.to_datetime(wahlen_df['date'], format='%d.%m.%y')  \n",
    "\n",
    "wahlen_df.head()  "
   ]
  },
  {
   "cell_type": "markdown",
   "id": "5123b123-6478-4935-b7e8-fe19380efe11",
   "metadata": {},
   "source": [
    "# sql verbindung"
   ]
  },
  {
   "cell_type": "code",
   "execution_count": null,
   "id": "6fc09b76-6810-420e-9968-ef5f09bf8c36",
   "metadata": {
    "tags": []
   },
   "outputs": [],
   "source": [
    "engine = create_engine(\"sqlite:////../temp/meine_datenbank.db\")\n",
    "party_df.to_sql(\"party\", con=engine, if_exists=\"replace\", index=False)\n",
    "wahlen_df.to_sql(\"wahlen\", con=engine, if_exists=\"replace\", index=False)"
   ]
  }
 ],
 "metadata": {
  "kernelspec": {
   "display_name": "Python 3 (ipykernel)",
   "language": "python",
   "name": "python3"
  },
  "language_info": {
   "codemirror_mode": {
    "name": "ipython",
    "version": 3
   },
   "file_extension": ".py",
   "mimetype": "text/x-python",
   "name": "python",
   "nbconvert_exporter": "python",
   "pygments_lexer": "ipython3",
   "version": "3.11.5"
  }
 },
 "nbformat": 4,
 "nbformat_minor": 5
}
