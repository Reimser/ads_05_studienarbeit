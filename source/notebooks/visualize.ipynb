{
 "cells": [
  {
   "cell_type": "markdown",
   "id": "f4e7ddaf-8d2f-442f-8e67-db7a081383a7",
   "metadata": {},
   "source": [
    "# Visualize"
   ]
  },
  {
   "cell_type": "markdown",
   "id": "34b9cbf8-ee8e-4021-9ee0-74bae733f725",
   "metadata": {},
   "source": [
    "## Import"
   ]
  },
  {
   "cell_type": "code",
   "execution_count": 2,
   "id": "3faaccce-1bc1-4705-96aa-a62dd4a3c96c",
   "metadata": {},
   "outputs": [],
   "source": [
    "import pandas as pd\n",
    "import matplotlib.pyplot as plt\n",
    "import matplotlib.dates as mdates\n",
    "import matplotlib.lines as mlines\n",
    "import numpy as np\n",
    "import os\n",
    "from datetime import datetime\n",
    "from matplotlib import patheffects\n",
    "import matplotlib.ticker as ticker\n",
    "from matplotlib.lines import Line2D\n",
    "import matplotlib.dates as mdates\n",
    "import matplotlib.ticker as mticker\n",
    "import plotly.graph_objects as go\n"
   ]
  },
  {
   "cell_type": "code",
   "execution_count": 3,
   "id": "29ee028c-bd9e-475d-bb4d-81fd8cc1d225",
   "metadata": {},
   "outputs": [],
   "source": [
    "# Pfad\n",
    "TEMPLATE_PATH = os.path.abspath(os.path.join(os.getcwd(), \"..\", \"..\", \"_templates\"))"
   ]
  },
  {
   "cell_type": "code",
   "execution_count": 4,
   "id": "4757e810-c54f-45bc-b5b1-3d45b6fe6b6d",
   "metadata": {},
   "outputs": [],
   "source": [
    "# Daten einlesen\n",
    "wahlen_df = pd.read_pickle(os.path.join(TEMPLATE_PATH, \"wahlen.pickle\"))\n",
    "wordcount_df = pd.read_pickle(os.path.join(TEMPLATE_PATH, \"wordcount.pickle\"))"
   ]
  },
  {
   "cell_type": "code",
   "execution_count": 5,
   "id": "6e07c239-a1e5-4d45-94de-ccdc877c4686",
   "metadata": {},
   "outputs": [],
   "source": [
    "# Liste der Parteifarben\n",
    "parteifarben = {'cdu': 'black', 'spd': 'red', 'grüne': 'green','grünen': 'green',\n",
    "                'fdp': '#DAA520', 'linke': 'purple', 'afd': 'blue'}"
   ]
  },
  {
   "cell_type": "markdown",
   "id": "abcbcc3c-133c-4fb0-84e7-4dd340e475ee",
   "metadata": {},
   "source": [
    "## Inspect"
   ]
  },
  {
   "cell_type": "code",
   "execution_count": 6,
   "id": "ca418144",
   "metadata": {},
   "outputs": [
    {
     "data": {
      "text/html": [
       "<div>\n",
       "<style scoped>\n",
       "    .dataframe tbody tr th:only-of-type {\n",
       "        vertical-align: middle;\n",
       "    }\n",
       "\n",
       "    .dataframe tbody tr th {\n",
       "        vertical-align: top;\n",
       "    }\n",
       "\n",
       "    .dataframe thead th {\n",
       "        text-align: right;\n",
       "    }\n",
       "</style>\n",
       "<table border=\"1\" class=\"dataframe\">\n",
       "  <thead>\n",
       "    <tr style=\"text-align: right;\">\n",
       "      <th></th>\n",
       "      <th>date</th>\n",
       "      <th>word</th>\n",
       "      <th>paper</th>\n",
       "      <th>count</th>\n",
       "      <th>month</th>\n",
       "      <th>quarter</th>\n",
       "      <th>week</th>\n",
       "    </tr>\n",
       "  </thead>\n",
       "  <tbody>\n",
       "    <tr>\n",
       "      <th>0</th>\n",
       "      <td>2021-04-01</td>\n",
       "      <td>afd</td>\n",
       "      <td>faz</td>\n",
       "      <td>2</td>\n",
       "      <td>2021-04</td>\n",
       "      <td>2021Q2</td>\n",
       "      <td>2021-03-29</td>\n",
       "    </tr>\n",
       "    <tr>\n",
       "      <th>1</th>\n",
       "      <td>2021-04-01</td>\n",
       "      <td>afd</td>\n",
       "      <td>tagesspiegel</td>\n",
       "      <td>1</td>\n",
       "      <td>2021-04</td>\n",
       "      <td>2021Q2</td>\n",
       "      <td>2021-03-29</td>\n",
       "    </tr>\n",
       "    <tr>\n",
       "      <th>2</th>\n",
       "      <td>2021-04-01</td>\n",
       "      <td>afd</td>\n",
       "      <td>uebermedien</td>\n",
       "      <td>5</td>\n",
       "      <td>2021-04</td>\n",
       "      <td>2021Q2</td>\n",
       "      <td>2021-03-29</td>\n",
       "    </tr>\n",
       "    <tr>\n",
       "      <th>3</th>\n",
       "      <td>2021-04-01</td>\n",
       "      <td>cdu</td>\n",
       "      <td>berliner</td>\n",
       "      <td>1</td>\n",
       "      <td>2021-04</td>\n",
       "      <td>2021Q2</td>\n",
       "      <td>2021-03-29</td>\n",
       "    </tr>\n",
       "    <tr>\n",
       "      <th>4</th>\n",
       "      <td>2021-04-01</td>\n",
       "      <td>cdu</td>\n",
       "      <td>dlf</td>\n",
       "      <td>6</td>\n",
       "      <td>2021-04</td>\n",
       "      <td>2021Q2</td>\n",
       "      <td>2021-03-29</td>\n",
       "    </tr>\n",
       "  </tbody>\n",
       "</table>\n",
       "</div>"
      ],
      "text/plain": [
       "        date word         paper  count    month quarter       week\n",
       "0 2021-04-01  afd           faz      2  2021-04  2021Q2 2021-03-29\n",
       "1 2021-04-01  afd  tagesspiegel      1  2021-04  2021Q2 2021-03-29\n",
       "2 2021-04-01  afd   uebermedien      5  2021-04  2021Q2 2021-03-29\n",
       "3 2021-04-01  cdu      berliner      1  2021-04  2021Q2 2021-03-29\n",
       "4 2021-04-01  cdu           dlf      6  2021-04  2021Q2 2021-03-29"
      ]
     },
     "execution_count": 6,
     "metadata": {},
     "output_type": "execute_result"
    }
   ],
   "source": [
    "wordcount_df.head() "
   ]
  },
  {
   "cell_type": "code",
   "execution_count": 7,
   "id": "188f1a47",
   "metadata": {},
   "outputs": [
    {
     "data": {
      "text/html": [
       "<div>\n",
       "<style scoped>\n",
       "    .dataframe tbody tr th:only-of-type {\n",
       "        vertical-align: middle;\n",
       "    }\n",
       "\n",
       "    .dataframe tbody tr th {\n",
       "        vertical-align: top;\n",
       "    }\n",
       "\n",
       "    .dataframe thead th {\n",
       "        text-align: right;\n",
       "    }\n",
       "</style>\n",
       "<table border=\"1\" class=\"dataframe\">\n",
       "  <thead>\n",
       "    <tr style=\"text-align: right;\">\n",
       "      <th></th>\n",
       "      <th>date</th>\n",
       "      <th>cdu</th>\n",
       "      <th>spd</th>\n",
       "      <th>grüne</th>\n",
       "      <th>fdp</th>\n",
       "      <th>linke</th>\n",
       "      <th>afd</th>\n",
       "      <th>bsw</th>\n",
       "      <th>quarter</th>\n",
       "      <th>month</th>\n",
       "      <th>week</th>\n",
       "    </tr>\n",
       "  </thead>\n",
       "  <tbody>\n",
       "    <tr>\n",
       "      <th>0</th>\n",
       "      <td>2021-04-16</td>\n",
       "      <td>31</td>\n",
       "      <td>14</td>\n",
       "      <td>21</td>\n",
       "      <td>9</td>\n",
       "      <td>7</td>\n",
       "      <td>11</td>\n",
       "      <td>0</td>\n",
       "      <td>2021Q2</td>\n",
       "      <td>2021-04</td>\n",
       "      <td>2021-04-12</td>\n",
       "    </tr>\n",
       "    <tr>\n",
       "      <th>1</th>\n",
       "      <td>2021-05-07</td>\n",
       "      <td>25</td>\n",
       "      <td>14</td>\n",
       "      <td>26</td>\n",
       "      <td>10</td>\n",
       "      <td>7</td>\n",
       "      <td>11</td>\n",
       "      <td>0</td>\n",
       "      <td>2021Q2</td>\n",
       "      <td>2021-05</td>\n",
       "      <td>2021-05-03</td>\n",
       "    </tr>\n",
       "    <tr>\n",
       "      <th>2</th>\n",
       "      <td>2021-05-21</td>\n",
       "      <td>24</td>\n",
       "      <td>14</td>\n",
       "      <td>25</td>\n",
       "      <td>11</td>\n",
       "      <td>7</td>\n",
       "      <td>11</td>\n",
       "      <td>0</td>\n",
       "      <td>2021Q2</td>\n",
       "      <td>2021-05</td>\n",
       "      <td>2021-05-17</td>\n",
       "    </tr>\n",
       "    <tr>\n",
       "      <th>3</th>\n",
       "      <td>2021-06-10</td>\n",
       "      <td>28</td>\n",
       "      <td>15</td>\n",
       "      <td>22</td>\n",
       "      <td>10</td>\n",
       "      <td>7</td>\n",
       "      <td>11</td>\n",
       "      <td>0</td>\n",
       "      <td>2021Q2</td>\n",
       "      <td>2021-06</td>\n",
       "      <td>2021-06-07</td>\n",
       "    </tr>\n",
       "    <tr>\n",
       "      <th>4</th>\n",
       "      <td>2021-06-25</td>\n",
       "      <td>29</td>\n",
       "      <td>14</td>\n",
       "      <td>22</td>\n",
       "      <td>10</td>\n",
       "      <td>7</td>\n",
       "      <td>10</td>\n",
       "      <td>0</td>\n",
       "      <td>2021Q2</td>\n",
       "      <td>2021-06</td>\n",
       "      <td>2021-06-21</td>\n",
       "    </tr>\n",
       "  </tbody>\n",
       "</table>\n",
       "</div>"
      ],
      "text/plain": [
       "        date  cdu  spd  grüne  fdp  linke  afd  bsw quarter    month  \\\n",
       "0 2021-04-16   31   14     21    9      7   11    0  2021Q2  2021-04   \n",
       "1 2021-05-07   25   14     26   10      7   11    0  2021Q2  2021-05   \n",
       "2 2021-05-21   24   14     25   11      7   11    0  2021Q2  2021-05   \n",
       "3 2021-06-10   28   15     22   10      7   11    0  2021Q2  2021-06   \n",
       "4 2021-06-25   29   14     22   10      7   10    0  2021Q2  2021-06   \n",
       "\n",
       "        week  \n",
       "0 2021-04-12  \n",
       "1 2021-05-03  \n",
       "2 2021-05-17  \n",
       "3 2021-06-07  \n",
       "4 2021-06-21  "
      ]
     },
     "execution_count": 7,
     "metadata": {},
     "output_type": "execute_result"
    }
   ],
   "source": [
    "wahlen_df.head()"
   ]
  },
  {
   "cell_type": "code",
   "execution_count": 8,
   "id": "8856d515",
   "metadata": {},
   "outputs": [],
   "source": [
    "# Spalte \"grüne\" in \"grünen\" umbenennen\n",
    "wahlen_df = wahlen_df.rename(columns={\"grüne\": \"grünen\"})"
   ]
  },
  {
   "cell_type": "markdown",
   "id": "fbf3fe38",
   "metadata": {},
   "source": [
    "## Visualisierung"
   ]
  },
  {
   "cell_type": "markdown",
   "id": "134853b3",
   "metadata": {},
   "source": [
    "Interaktve Grafik mit dem Wordcount und Politbarometer Daten"
   ]
  },
  {
   "cell_type": "code",
   "execution_count": 9,
   "id": "99a762f3",
   "metadata": {},
   "outputs": [
    {
     "data": {
      "application/vnd.plotly.v1+json": {
       "config": {
        "plotlyServerURL": "https://plot.ly"
       },
       "data": [
        {
         "hoverinfo": "x+y+name",
         "line": {
          "color": "blue"
         },
         "mode": "lines",
         "name": "Wordcount: AFD",
         "type": "scatter",
         "x": [
          "2021-04",
          "2021-05",
          "2021-06",
          "2021-07",
          "2021-08",
          "2021-09",
          "2021-10",
          "2021-11",
          "2021-12",
          "2022-01",
          "2022-02",
          "2022-03",
          "2022-04",
          "2022-05",
          "2022-06",
          "2022-07",
          "2022-08",
          "2022-09",
          "2022-10",
          "2022-11",
          "2022-12",
          "2023-01",
          "2023-02",
          "2023-03",
          "2023-04",
          "2023-05",
          "2023-06",
          "2023-07",
          "2023-08",
          "2023-09",
          "2023-10",
          "2023-11",
          "2023-12",
          "2024-01",
          "2024-02",
          "2024-03",
          "2024-04",
          "2024-05",
          "2024-06",
          "2024-07",
          "2024-08",
          "2024-09",
          "2024-10",
          "2024-11"
         ],
         "y": [
          363,
          375,
          720,
          312,
          348,
          717,
          427,
          200,
          405,
          433,
          252,
          295,
          188,
          254,
          557,
          189,
          126,
          227,
          391,
          117,
          454,
          129,
          399,
          246,
          211,
          347,
          1492,
          1798,
          1411,
          1457,
          1219,
          349,
          693,
          3245,
          2035,
          1318,
          1532,
          2077,
          2077,
          1085,
          1520,
          3078,
          1269,
          791
         ],
         "yaxis": "y"
        },
        {
         "hoverinfo": "x+y+name",
         "line": {
          "color": "black"
         },
         "mode": "lines",
         "name": "Wordcount: CDU",
         "type": "scatter",
         "x": [
          "2021-04",
          "2021-05",
          "2021-06",
          "2021-07",
          "2021-08",
          "2021-09",
          "2021-10",
          "2021-11",
          "2021-12",
          "2022-01",
          "2022-02",
          "2022-03",
          "2022-04",
          "2022-05",
          "2022-06",
          "2022-07",
          "2022-08",
          "2022-09",
          "2022-10",
          "2022-11",
          "2022-12",
          "2023-01",
          "2023-02",
          "2023-03",
          "2023-04",
          "2023-05",
          "2023-06",
          "2023-07",
          "2023-08",
          "2023-09",
          "2023-10",
          "2023-11",
          "2023-12",
          "2024-01",
          "2024-02",
          "2024-03",
          "2024-04",
          "2024-05",
          "2024-06",
          "2024-07",
          "2024-08",
          "2024-09",
          "2024-10",
          "2024-11"
         ],
         "y": [
          1513,
          806,
          986,
          674,
          869,
          1376,
          1801,
          1020,
          734,
          945,
          355,
          315,
          444,
          959,
          513,
          318,
          269,
          636,
          447,
          374,
          295,
          580,
          856,
          759,
          640,
          440,
          747,
          1078,
          504,
          1026,
          726,
          517,
          662,
          748,
          594,
          652,
          637,
          1270,
          724,
          591,
          795,
          1399,
          740,
          841
         ],
         "yaxis": "y"
        },
        {
         "hoverinfo": "x+y+name",
         "line": {
          "color": "green"
         },
         "mode": "lines",
         "name": "Wordcount: GRÜNEN",
         "type": "scatter",
         "x": [
          "2021-04",
          "2021-05",
          "2021-06",
          "2021-07",
          "2021-08",
          "2021-09",
          "2021-10",
          "2021-11",
          "2021-12",
          "2022-01",
          "2022-02",
          "2022-03",
          "2022-04",
          "2022-05",
          "2022-06",
          "2022-07",
          "2022-08",
          "2022-09",
          "2022-10",
          "2022-11",
          "2022-12",
          "2023-01",
          "2023-02",
          "2023-03",
          "2023-04",
          "2023-05",
          "2023-06",
          "2023-07",
          "2023-08",
          "2023-09",
          "2023-10",
          "2023-11",
          "2023-12",
          "2024-01",
          "2024-02",
          "2024-03",
          "2024-04",
          "2024-05",
          "2024-06",
          "2024-07",
          "2024-08",
          "2024-09",
          "2024-10",
          "2024-11"
         ],
         "y": [
          907,
          996,
          1186,
          901,
          837,
          1211,
          1190,
          755,
          548,
          668,
          410,
          267,
          404,
          677,
          477,
          358,
          403,
          457,
          654,
          347,
          407,
          609,
          563,
          631,
          563,
          842,
          775,
          398,
          410,
          384,
          481,
          640,
          458,
          393,
          599,
          458,
          426,
          482,
          647,
          546,
          502,
          1016,
          704,
          808
         ],
         "yaxis": "y"
        },
        {
         "hoverinfo": "x+y+name",
         "line": {
          "color": "red"
         },
         "mode": "lines",
         "name": "Wordcount: SPD",
         "type": "scatter",
         "x": [
          "2021-04",
          "2021-05",
          "2021-06",
          "2021-07",
          "2021-08",
          "2021-09",
          "2021-10",
          "2021-11",
          "2021-12",
          "2022-01",
          "2022-02",
          "2022-03",
          "2022-04",
          "2022-05",
          "2022-06",
          "2022-07",
          "2022-08",
          "2022-09",
          "2022-10",
          "2022-11",
          "2022-12",
          "2023-01",
          "2023-02",
          "2023-03",
          "2023-04",
          "2023-05",
          "2023-06",
          "2023-07",
          "2023-08",
          "2023-09",
          "2023-10",
          "2023-11",
          "2023-12",
          "2024-01",
          "2024-02",
          "2024-03",
          "2024-04",
          "2024-05",
          "2024-06",
          "2024-07",
          "2024-08",
          "2024-09",
          "2024-10",
          "2024-11"
         ],
         "y": [
          475,
          640,
          569,
          510,
          1030,
          2160,
          1660,
          860,
          997,
          527,
          501,
          558,
          763,
          954,
          577,
          492,
          719,
          534,
          612,
          530,
          400,
          590,
          713,
          906,
          835,
          648,
          445,
          469,
          529,
          538,
          627,
          593,
          789,
          647,
          485,
          729,
          725,
          1040,
          845,
          512,
          670,
          1280,
          1176,
          1990
         ],
         "yaxis": "y"
        },
        {
         "hoverinfo": "x+y+name",
         "line": {
          "color": "blue",
          "dash": "dash"
         },
         "mode": "lines",
         "name": "Politbarometer: AFD",
         "type": "scatter",
         "x": [
          "2021-04",
          "2021-05",
          "2021-06",
          "2021-07",
          "2021-08",
          "2021-09",
          "2021-10",
          "2021-11",
          "2021-12",
          "2022-01",
          "2022-02",
          "2022-03",
          "2022-04",
          "2022-05",
          "2022-06",
          "2022-07",
          "2022-08",
          "2022-09",
          "2022-10",
          "2022-11",
          "2022-12",
          "2023-01",
          "2023-02",
          "2023-03",
          "2023-04",
          "2023-05",
          "2023-06",
          "2023-07",
          "2023-08",
          "2023-09",
          "2023-10",
          "2023-11",
          "2023-12",
          "2024-01",
          "2024-02",
          "2024-03",
          "2024-04",
          "2024-05",
          "2024-06",
          "2024-07",
          "2024-08",
          "2024-09",
          "2024-10",
          "2024-11"
         ],
         "y": [
          11,
          11,
          11,
          10,
          11,
          11,
          10,
          11,
          10,
          10,
          11,
          10,
          11,
          10,
          10,
          10,
          12,
          13,
          15,
          15,
          15,
          14,
          14,
          15,
          15,
          15,
          18,
          20,
          20,
          21,
          21,
          21,
          22,
          22,
          19,
          18,
          18,
          16,
          16,
          17,
          16,
          17,
          18,
          18
         ],
         "yaxis": "y2"
        },
        {
         "hoverinfo": "x+y+name",
         "line": {
          "color": "black",
          "dash": "dash"
         },
         "mode": "lines",
         "name": "Politbarometer: CDU",
         "type": "scatter",
         "x": [
          "2021-04",
          "2021-05",
          "2021-06",
          "2021-07",
          "2021-08",
          "2021-09",
          "2021-10",
          "2021-11",
          "2021-12",
          "2022-01",
          "2022-02",
          "2022-03",
          "2022-04",
          "2022-05",
          "2022-06",
          "2022-07",
          "2022-08",
          "2022-09",
          "2022-10",
          "2022-11",
          "2022-12",
          "2023-01",
          "2023-02",
          "2023-03",
          "2023-04",
          "2023-05",
          "2023-06",
          "2023-07",
          "2023-08",
          "2023-09",
          "2023-10",
          "2023-11",
          "2023-12",
          "2024-01",
          "2024-02",
          "2024-03",
          "2024-04",
          "2024-05",
          "2024-06",
          "2024-07",
          "2024-08",
          "2024-09",
          "2024-10",
          "2024-11"
         ],
         "y": [
          31,
          25,
          28,
          30,
          26,
          22,
          20,
          20,
          21,
          22,
          25,
          24,
          24,
          26,
          26,
          27,
          26,
          28,
          28,
          28,
          28,
          27,
          30,
          29,
          31,
          30,
          28,
          27,
          26,
          26,
          30,
          30,
          32,
          31,
          31,
          30,
          31,
          31,
          30,
          32,
          32,
          33,
          31,
          33
         ],
         "yaxis": "y2"
        },
        {
         "hoverinfo": "x+y+name",
         "line": {
          "color": "green",
          "dash": "dash"
         },
         "mode": "lines",
         "name": "Politbarometer: GRÜNEN",
         "type": "scatter",
         "x": [
          "2021-04",
          "2021-05",
          "2021-06",
          "2021-07",
          "2021-08",
          "2021-09",
          "2021-10",
          "2021-11",
          "2021-12",
          "2022-01",
          "2022-02",
          "2022-03",
          "2022-04",
          "2022-05",
          "2022-06",
          "2022-07",
          "2022-08",
          "2022-09",
          "2022-10",
          "2022-11",
          "2022-12",
          "2023-01",
          "2023-02",
          "2023-03",
          "2023-04",
          "2023-05",
          "2023-06",
          "2023-07",
          "2023-08",
          "2023-09",
          "2023-10",
          "2023-11",
          "2023-12",
          "2024-01",
          "2024-02",
          "2024-03",
          "2024-04",
          "2024-05",
          "2024-06",
          "2024-07",
          "2024-08",
          "2024-09",
          "2024-10",
          "2024-11"
         ],
         "y": [
          21,
          26,
          22,
          20,
          19,
          17,
          16,
          16,
          17,
          16,
          16,
          18,
          19,
          24,
          25,
          25,
          26,
          23,
          21,
          22,
          20,
          21,
          19,
          18,
          18,
          17,
          16,
          16,
          15,
          16,
          14,
          15,
          14,
          14,
          13,
          15,
          12,
          13,
          14,
          13,
          13,
          11,
          11,
          12
         ],
         "yaxis": "y2"
        },
        {
         "hoverinfo": "x+y+name",
         "line": {
          "color": "red",
          "dash": "dash"
         },
         "mode": "lines",
         "name": "Politbarometer: SPD",
         "type": "scatter",
         "x": [
          "2021-04",
          "2021-05",
          "2021-06",
          "2021-07",
          "2021-08",
          "2021-09",
          "2021-10",
          "2021-11",
          "2021-12",
          "2022-01",
          "2022-02",
          "2022-03",
          "2022-04",
          "2022-05",
          "2022-06",
          "2022-07",
          "2022-08",
          "2022-09",
          "2022-10",
          "2022-11",
          "2022-12",
          "2023-01",
          "2023-02",
          "2023-03",
          "2023-04",
          "2023-05",
          "2023-06",
          "2023-07",
          "2023-08",
          "2023-09",
          "2023-10",
          "2023-11",
          "2023-12",
          "2024-01",
          "2024-02",
          "2024-03",
          "2024-04",
          "2024-05",
          "2024-06",
          "2024-07",
          "2024-08",
          "2024-09",
          "2024-10",
          "2024-11"
         ],
         "y": [
          14,
          14,
          15,
          15,
          19,
          25,
          28,
          28,
          28,
          27,
          25,
          27,
          27,
          22,
          22,
          21,
          19,
          19,
          19,
          19,
          20,
          20,
          20,
          21,
          18,
          19,
          19,
          17,
          19,
          17,
          15,
          16,
          14,
          13,
          15,
          15,
          16,
          15,
          14,
          14,
          14,
          15,
          16,
          16
         ],
         "yaxis": "y2"
        }
       ],
       "layout": {
        "height": 600,
        "legend": {
         "orientation": "h",
         "title": {
          "text": "Legende"
         },
         "x": 1,
         "xanchor": "right",
         "y": 1.1,
         "yanchor": "bottom"
        },
        "template": {
         "data": {
          "bar": [
           {
            "error_x": {
             "color": "#2a3f5f"
            },
            "error_y": {
             "color": "#2a3f5f"
            },
            "marker": {
             "line": {
              "color": "white",
              "width": 0.5
             },
             "pattern": {
              "fillmode": "overlay",
              "size": 10,
              "solidity": 0.2
             }
            },
            "type": "bar"
           }
          ],
          "barpolar": [
           {
            "marker": {
             "line": {
              "color": "white",
              "width": 0.5
             },
             "pattern": {
              "fillmode": "overlay",
              "size": 10,
              "solidity": 0.2
             }
            },
            "type": "barpolar"
           }
          ],
          "carpet": [
           {
            "aaxis": {
             "endlinecolor": "#2a3f5f",
             "gridcolor": "#C8D4E3",
             "linecolor": "#C8D4E3",
             "minorgridcolor": "#C8D4E3",
             "startlinecolor": "#2a3f5f"
            },
            "baxis": {
             "endlinecolor": "#2a3f5f",
             "gridcolor": "#C8D4E3",
             "linecolor": "#C8D4E3",
             "minorgridcolor": "#C8D4E3",
             "startlinecolor": "#2a3f5f"
            },
            "type": "carpet"
           }
          ],
          "choropleth": [
           {
            "colorbar": {
             "outlinewidth": 0,
             "ticks": ""
            },
            "type": "choropleth"
           }
          ],
          "contour": [
           {
            "colorbar": {
             "outlinewidth": 0,
             "ticks": ""
            },
            "colorscale": [
             [
              0,
              "#0d0887"
             ],
             [
              0.1111111111111111,
              "#46039f"
             ],
             [
              0.2222222222222222,
              "#7201a8"
             ],
             [
              0.3333333333333333,
              "#9c179e"
             ],
             [
              0.4444444444444444,
              "#bd3786"
             ],
             [
              0.5555555555555556,
              "#d8576b"
             ],
             [
              0.6666666666666666,
              "#ed7953"
             ],
             [
              0.7777777777777778,
              "#fb9f3a"
             ],
             [
              0.8888888888888888,
              "#fdca26"
             ],
             [
              1,
              "#f0f921"
             ]
            ],
            "type": "contour"
           }
          ],
          "contourcarpet": [
           {
            "colorbar": {
             "outlinewidth": 0,
             "ticks": ""
            },
            "type": "contourcarpet"
           }
          ],
          "heatmap": [
           {
            "colorbar": {
             "outlinewidth": 0,
             "ticks": ""
            },
            "colorscale": [
             [
              0,
              "#0d0887"
             ],
             [
              0.1111111111111111,
              "#46039f"
             ],
             [
              0.2222222222222222,
              "#7201a8"
             ],
             [
              0.3333333333333333,
              "#9c179e"
             ],
             [
              0.4444444444444444,
              "#bd3786"
             ],
             [
              0.5555555555555556,
              "#d8576b"
             ],
             [
              0.6666666666666666,
              "#ed7953"
             ],
             [
              0.7777777777777778,
              "#fb9f3a"
             ],
             [
              0.8888888888888888,
              "#fdca26"
             ],
             [
              1,
              "#f0f921"
             ]
            ],
            "type": "heatmap"
           }
          ],
          "heatmapgl": [
           {
            "colorbar": {
             "outlinewidth": 0,
             "ticks": ""
            },
            "colorscale": [
             [
              0,
              "#0d0887"
             ],
             [
              0.1111111111111111,
              "#46039f"
             ],
             [
              0.2222222222222222,
              "#7201a8"
             ],
             [
              0.3333333333333333,
              "#9c179e"
             ],
             [
              0.4444444444444444,
              "#bd3786"
             ],
             [
              0.5555555555555556,
              "#d8576b"
             ],
             [
              0.6666666666666666,
              "#ed7953"
             ],
             [
              0.7777777777777778,
              "#fb9f3a"
             ],
             [
              0.8888888888888888,
              "#fdca26"
             ],
             [
              1,
              "#f0f921"
             ]
            ],
            "type": "heatmapgl"
           }
          ],
          "histogram": [
           {
            "marker": {
             "pattern": {
              "fillmode": "overlay",
              "size": 10,
              "solidity": 0.2
             }
            },
            "type": "histogram"
           }
          ],
          "histogram2d": [
           {
            "colorbar": {
             "outlinewidth": 0,
             "ticks": ""
            },
            "colorscale": [
             [
              0,
              "#0d0887"
             ],
             [
              0.1111111111111111,
              "#46039f"
             ],
             [
              0.2222222222222222,
              "#7201a8"
             ],
             [
              0.3333333333333333,
              "#9c179e"
             ],
             [
              0.4444444444444444,
              "#bd3786"
             ],
             [
              0.5555555555555556,
              "#d8576b"
             ],
             [
              0.6666666666666666,
              "#ed7953"
             ],
             [
              0.7777777777777778,
              "#fb9f3a"
             ],
             [
              0.8888888888888888,
              "#fdca26"
             ],
             [
              1,
              "#f0f921"
             ]
            ],
            "type": "histogram2d"
           }
          ],
          "histogram2dcontour": [
           {
            "colorbar": {
             "outlinewidth": 0,
             "ticks": ""
            },
            "colorscale": [
             [
              0,
              "#0d0887"
             ],
             [
              0.1111111111111111,
              "#46039f"
             ],
             [
              0.2222222222222222,
              "#7201a8"
             ],
             [
              0.3333333333333333,
              "#9c179e"
             ],
             [
              0.4444444444444444,
              "#bd3786"
             ],
             [
              0.5555555555555556,
              "#d8576b"
             ],
             [
              0.6666666666666666,
              "#ed7953"
             ],
             [
              0.7777777777777778,
              "#fb9f3a"
             ],
             [
              0.8888888888888888,
              "#fdca26"
             ],
             [
              1,
              "#f0f921"
             ]
            ],
            "type": "histogram2dcontour"
           }
          ],
          "mesh3d": [
           {
            "colorbar": {
             "outlinewidth": 0,
             "ticks": ""
            },
            "type": "mesh3d"
           }
          ],
          "parcoords": [
           {
            "line": {
             "colorbar": {
              "outlinewidth": 0,
              "ticks": ""
             }
            },
            "type": "parcoords"
           }
          ],
          "pie": [
           {
            "automargin": true,
            "type": "pie"
           }
          ],
          "scatter": [
           {
            "fillpattern": {
             "fillmode": "overlay",
             "size": 10,
             "solidity": 0.2
            },
            "type": "scatter"
           }
          ],
          "scatter3d": [
           {
            "line": {
             "colorbar": {
              "outlinewidth": 0,
              "ticks": ""
             }
            },
            "marker": {
             "colorbar": {
              "outlinewidth": 0,
              "ticks": ""
             }
            },
            "type": "scatter3d"
           }
          ],
          "scattercarpet": [
           {
            "marker": {
             "colorbar": {
              "outlinewidth": 0,
              "ticks": ""
             }
            },
            "type": "scattercarpet"
           }
          ],
          "scattergeo": [
           {
            "marker": {
             "colorbar": {
              "outlinewidth": 0,
              "ticks": ""
             }
            },
            "type": "scattergeo"
           }
          ],
          "scattergl": [
           {
            "marker": {
             "colorbar": {
              "outlinewidth": 0,
              "ticks": ""
             }
            },
            "type": "scattergl"
           }
          ],
          "scattermapbox": [
           {
            "marker": {
             "colorbar": {
              "outlinewidth": 0,
              "ticks": ""
             }
            },
            "type": "scattermapbox"
           }
          ],
          "scatterpolar": [
           {
            "marker": {
             "colorbar": {
              "outlinewidth": 0,
              "ticks": ""
             }
            },
            "type": "scatterpolar"
           }
          ],
          "scatterpolargl": [
           {
            "marker": {
             "colorbar": {
              "outlinewidth": 0,
              "ticks": ""
             }
            },
            "type": "scatterpolargl"
           }
          ],
          "scatterternary": [
           {
            "marker": {
             "colorbar": {
              "outlinewidth": 0,
              "ticks": ""
             }
            },
            "type": "scatterternary"
           }
          ],
          "surface": [
           {
            "colorbar": {
             "outlinewidth": 0,
             "ticks": ""
            },
            "colorscale": [
             [
              0,
              "#0d0887"
             ],
             [
              0.1111111111111111,
              "#46039f"
             ],
             [
              0.2222222222222222,
              "#7201a8"
             ],
             [
              0.3333333333333333,
              "#9c179e"
             ],
             [
              0.4444444444444444,
              "#bd3786"
             ],
             [
              0.5555555555555556,
              "#d8576b"
             ],
             [
              0.6666666666666666,
              "#ed7953"
             ],
             [
              0.7777777777777778,
              "#fb9f3a"
             ],
             [
              0.8888888888888888,
              "#fdca26"
             ],
             [
              1,
              "#f0f921"
             ]
            ],
            "type": "surface"
           }
          ],
          "table": [
           {
            "cells": {
             "fill": {
              "color": "#EBF0F8"
             },
             "line": {
              "color": "white"
             }
            },
            "header": {
             "fill": {
              "color": "#C8D4E3"
             },
             "line": {
              "color": "white"
             }
            },
            "type": "table"
           }
          ]
         },
         "layout": {
          "annotationdefaults": {
           "arrowcolor": "#2a3f5f",
           "arrowhead": 0,
           "arrowwidth": 1
          },
          "autotypenumbers": "strict",
          "coloraxis": {
           "colorbar": {
            "outlinewidth": 0,
            "ticks": ""
           }
          },
          "colorscale": {
           "diverging": [
            [
             0,
             "#8e0152"
            ],
            [
             0.1,
             "#c51b7d"
            ],
            [
             0.2,
             "#de77ae"
            ],
            [
             0.3,
             "#f1b6da"
            ],
            [
             0.4,
             "#fde0ef"
            ],
            [
             0.5,
             "#f7f7f7"
            ],
            [
             0.6,
             "#e6f5d0"
            ],
            [
             0.7,
             "#b8e186"
            ],
            [
             0.8,
             "#7fbc41"
            ],
            [
             0.9,
             "#4d9221"
            ],
            [
             1,
             "#276419"
            ]
           ],
           "sequential": [
            [
             0,
             "#0d0887"
            ],
            [
             0.1111111111111111,
             "#46039f"
            ],
            [
             0.2222222222222222,
             "#7201a8"
            ],
            [
             0.3333333333333333,
             "#9c179e"
            ],
            [
             0.4444444444444444,
             "#bd3786"
            ],
            [
             0.5555555555555556,
             "#d8576b"
            ],
            [
             0.6666666666666666,
             "#ed7953"
            ],
            [
             0.7777777777777778,
             "#fb9f3a"
            ],
            [
             0.8888888888888888,
             "#fdca26"
            ],
            [
             1,
             "#f0f921"
            ]
           ],
           "sequentialminus": [
            [
             0,
             "#0d0887"
            ],
            [
             0.1111111111111111,
             "#46039f"
            ],
            [
             0.2222222222222222,
             "#7201a8"
            ],
            [
             0.3333333333333333,
             "#9c179e"
            ],
            [
             0.4444444444444444,
             "#bd3786"
            ],
            [
             0.5555555555555556,
             "#d8576b"
            ],
            [
             0.6666666666666666,
             "#ed7953"
            ],
            [
             0.7777777777777778,
             "#fb9f3a"
            ],
            [
             0.8888888888888888,
             "#fdca26"
            ],
            [
             1,
             "#f0f921"
            ]
           ]
          },
          "colorway": [
           "#636efa",
           "#EF553B",
           "#00cc96",
           "#ab63fa",
           "#FFA15A",
           "#19d3f3",
           "#FF6692",
           "#B6E880",
           "#FF97FF",
           "#FECB52"
          ],
          "font": {
           "color": "#2a3f5f"
          },
          "geo": {
           "bgcolor": "white",
           "lakecolor": "white",
           "landcolor": "white",
           "showlakes": true,
           "showland": true,
           "subunitcolor": "#C8D4E3"
          },
          "hoverlabel": {
           "align": "left"
          },
          "hovermode": "closest",
          "mapbox": {
           "style": "light"
          },
          "paper_bgcolor": "white",
          "plot_bgcolor": "white",
          "polar": {
           "angularaxis": {
            "gridcolor": "#EBF0F8",
            "linecolor": "#EBF0F8",
            "ticks": ""
           },
           "bgcolor": "white",
           "radialaxis": {
            "gridcolor": "#EBF0F8",
            "linecolor": "#EBF0F8",
            "ticks": ""
           }
          },
          "scene": {
           "xaxis": {
            "backgroundcolor": "white",
            "gridcolor": "#DFE8F3",
            "gridwidth": 2,
            "linecolor": "#EBF0F8",
            "showbackground": true,
            "ticks": "",
            "zerolinecolor": "#EBF0F8"
           },
           "yaxis": {
            "backgroundcolor": "white",
            "gridcolor": "#DFE8F3",
            "gridwidth": 2,
            "linecolor": "#EBF0F8",
            "showbackground": true,
            "ticks": "",
            "zerolinecolor": "#EBF0F8"
           },
           "zaxis": {
            "backgroundcolor": "white",
            "gridcolor": "#DFE8F3",
            "gridwidth": 2,
            "linecolor": "#EBF0F8",
            "showbackground": true,
            "ticks": "",
            "zerolinecolor": "#EBF0F8"
           }
          },
          "shapedefaults": {
           "line": {
            "color": "#2a3f5f"
           }
          },
          "ternary": {
           "aaxis": {
            "gridcolor": "#DFE8F3",
            "linecolor": "#A2B1C6",
            "ticks": ""
           },
           "baxis": {
            "gridcolor": "#DFE8F3",
            "linecolor": "#A2B1C6",
            "ticks": ""
           },
           "bgcolor": "white",
           "caxis": {
            "gridcolor": "#DFE8F3",
            "linecolor": "#A2B1C6",
            "ticks": ""
           }
          },
          "title": {
           "x": 0.05
          },
          "xaxis": {
           "automargin": true,
           "gridcolor": "#EBF0F8",
           "linecolor": "#EBF0F8",
           "ticks": "",
           "title": {
            "standoff": 15
           },
           "zerolinecolor": "#EBF0F8",
           "zerolinewidth": 2
          },
          "yaxis": {
           "automargin": true,
           "gridcolor": "#EBF0F8",
           "linecolor": "#EBF0F8",
           "ticks": "",
           "title": {
            "standoff": 15
           },
           "zerolinecolor": "#EBF0F8",
           "zerolinewidth": 2
          }
         }
        },
        "width": 1000,
        "xaxis": {
         "tickangle": 45,
         "tickfont": {
          "size": 10
         }
        },
        "yaxis": {
         "showgrid": true,
         "side": "left",
         "title": {
          "text": "Wordcount"
         }
        },
        "yaxis2": {
         "overlaying": "y",
         "showgrid": false,
         "side": "right",
         "title": {
          "text": "Politbarometer (%)"
         }
        }
       }
      }
     },
     "metadata": {},
     "output_type": "display_data"
    }
   ],
   "source": [
    "# Farben für die Parteien definieren\n",
    "parteifarben = {\n",
    "    \"afd\": \"blue\",\n",
    "    \"cdu\": \"black\",\n",
    "    \"grünen\": \"green\",\n",
    "    \"spd\": \"red\",\n",
    "}\n",
    "\n",
    "# Daten für Wordcount vorbereiten\n",
    "df_grouped_wordcount = wordcount_df.groupby([\"month\", \"word\"])[\"count\"].sum().reset_index()\n",
    "\n",
    "# Daten für Politbarometer vorbereiten\n",
    "df_grouped_parties = wahlen_df.groupby(\"month\").first().reset_index()\n",
    "\n",
    "# Interaktive Figur erstellen\n",
    "fig = go.Figure()\n",
    "\n",
    "# Wordcount-Daten hinzufügen (linke Y-Achse)\n",
    "for word in [\"afd\", \"cdu\", \"grünen\", \"spd\"]:\n",
    "    word_data = df_grouped_wordcount[df_grouped_wordcount[\"word\"] == word]\n",
    "    fig.add_trace(\n",
    "        go.Scatter(\n",
    "            x=word_data[\"month\"],\n",
    "            y=word_data[\"count\"],\n",
    "            mode=\"lines\",\n",
    "            name=f\"Wordcount: {word.upper()}\",\n",
    "            line=dict(color=parteifarben.get(word, \"gray\")),\n",
    "            yaxis=\"y1\",  # Linke Y-Achse\n",
    "            hoverinfo=\"x+y+name\"\n",
    "        )\n",
    "    )\n",
    "\n",
    "# Politbarometer-Daten hinzufügen (rechte Y-Achse)\n",
    "for column in [\"afd\", \"cdu\", \"grünen\", \"spd\"]:\n",
    "    fig.add_trace(\n",
    "        go.Scatter(\n",
    "            x=df_grouped_parties[\"month\"],\n",
    "            y=df_grouped_parties[column],\n",
    "            mode=\"lines\",\n",
    "            name=f\"Politbarometer: {column.upper()}\",\n",
    "            line=dict(color=parteifarben.get(column, \"gray\"), dash=\"dash\"),\n",
    "            yaxis=\"y2\",  # Rechte Y-Achse\n",
    "            hoverinfo=\"x+y+name\"\n",
    "        )\n",
    "    )\n",
    "\n",
    "# Layout der Grafik definieren\n",
    "fig.update_layout(\n",
    "    \n",
    "    xaxis=dict(tickangle=45, tickfont=dict(size=10)),\n",
    "    yaxis=dict(\n",
    "        title=\"Wordcount\",\n",
    "        side=\"left\",\n",
    "        showgrid=True,\n",
    "    ),\n",
    "    yaxis2=dict(\n",
    "        title=\"Politbarometer (%)\",\n",
    "        side=\"right\",\n",
    "        overlaying=\"y\",\n",
    "        showgrid=False,\n",
    "    ),\n",
    "    legend=dict(\n",
    "        title=\"Legende\",\n",
    "        orientation=\"h\",\n",
    "        yanchor=\"bottom\",\n",
    "        y=1.1,\n",
    "        xanchor=\"right\",\n",
    "        x=1\n",
    "    ),\n",
    "    template=\"plotly_white\",\n",
    "    height=600,\n",
    "    width=1000,\n",
    ")\n",
    "\n",
    "# Interaktive Figur anzeigen\n",
    "fig.show()\n",
    "\n",
    "# Optional: Grafik als HTML speichern\n",
    "fig.write_html(\"interaktive_visualisierung.html\")"
   ]
  },
  {
   "cell_type": "markdown",
   "id": "43a56957",
   "metadata": {},
   "source": [
    "Die kumulierten Wordcounts ueber die Zeit"
   ]
  },
  {
   "cell_type": "code",
   "execution_count": 20,
   "id": "d80a6c0c",
   "metadata": {},
   "outputs": [
    {
     "data": {
      "image/png": "[encoded data removed]",
      "text/plain": [
       "<Figure size 1200x700 with 1 Axes>"
      ]
     },
     "metadata": {},
     "output_type": "display_data"
    }
   ],
   "source": [
    "\n",
    "# Datum in ein datetime-Format umwandeln\n",
    "wordcount_df[\"date\"] = pd.to_datetime(wordcount_df[\"date\"])\n",
    "\n",
    "# Farben pro Partei definieren\n",
    "party_colors = {\n",
    "    \"cdu\": \"black\",\n",
    "    \"grünen\": \"green\",\n",
    "    \"spd\": \"red\",\n",
    "    \"fdp\": \"yellow\",\n",
    "    \"linke\": \"purple\",\n",
    "    \"afd\": \"blue\",\n",
    "    \"bsw\": \"orange\"\n",
    "}\n",
    "\n",
    "# Kumulierten Wordcount pro Partei berechnen\n",
    "cumulative_data = wordcount_df.groupby([\"word\", \"date\"])[\"count\"].sum().groupby(level=0).cumsum().reset_index()\n",
    "\n",
    "# Plot erstellen\n",
    "plt.figure(figsize=(12, 7))\n",
    "ax = plt.gca()  # explizit ax definieren\n",
    "\n",
    "for word, group in cumulative_data.groupby(\"word\"):\n",
    "    plt.plot(\n",
    "        group[\"date\"], \n",
    "        group[\"count\"], \n",
    "        label=word.upper(), \n",
    "        color=party_colors.get(word, \"gray\"), \n",
    "        linewidth=1.5\n",
    "    )\n",
    "    # Parteiname am Ende der Linie anzeigen\n",
    "    plt.text(\n",
    "        group[\"date\"].iloc[-1],  # Letztes Datum\n",
    "        group[\"count\"].iloc[-1],  # Letzter Wert\n",
    "        word.upper(),  # Parteiname\n",
    "        color=party_colors.get(word, \"gray\"),\n",
    "        fontsize=10,\n",
    "        fontweight=\"bold\"\n",
    "    )\n",
    "\n",
    "# Titel und Achsenbeschriftungen\n",
    "plt.xlabel('', fontsize=8)\n",
    "plt.ylabel(\"\", fontsize=10)\n",
    "\n",
    "# Achsenformatierung\n",
    "plt.gca().xaxis.set_major_formatter(plt.matplotlib.dates.DateFormatter(\"%Y-%m\"))\n",
    "plt.xticks(fontsize=8, rotation=45)\n",
    "plt.yticks(fontsize=8)\n",
    "\n",
    "# Rasterlinien hinzufügen\n",
    "plt.grid(color=\"gray\", linestyle=\"--\", linewidth=0.5, alpha=0.7)\n",
    "\n",
    "# Entferne die rechte Umrandung (Spine)\n",
    "ax.spines[\"right\"].set_linewidth(0)  # Entferne die rechte Linie\n",
    "ax.spines[\"left\"].set_linewidth(0)  # Entferne die linke Linie\n",
    "ax.spines[\"top\"].set_linewidth(0)  # Entferne die obere Linie\n",
    "ax.spines[\"bottom\"].set_linewidth(0)  # Entferne die untere Linie\n",
    "\n",
    "# Layout anpassen und Plot anzeigen\n",
    "plt.tight_layout()\n",
    "plt.show()\n"
   ]
  },
  {
   "cell_type": "markdown",
   "id": "99048972",
   "metadata": {},
   "source": [
    "Wordcount 2024 mit den 4 groessten Parteien und Events"
   ]
  },
  {
   "cell_type": "code",
   "execution_count": 47,
   "id": "ad10dd96",
   "metadata": {},
   "outputs": [
    {
     "data": {
      "image/png": "[encoded data removed]",
      "text/plain": [
       "<Figure size 1000x600 with 1 Axes>"
      ]
     },
     "metadata": {},
     "output_type": "display_data"
    }
   ],
   "source": [
    "import matplotlib.pyplot as plt\n",
    "import matplotlib.ticker as mticker\n",
    "import pandas as pd\n",
    "\n",
    "# Relevante Parteienfarben\n",
    "parteifarben = {\n",
    "    \"spd\": \"red\",\n",
    "    \"cdu\": \"black\",\n",
    "    \"afd\": \"blue\",\n",
    "    \"grünen\": \"green\",\n",
    "}\n",
    "\n",
    "# Daten filtern: nur das Jahr 2024\n",
    "wordcount_2024 = wordcount_df[wordcount_df[\"date\"].dt.year == 2024]\n",
    "\n",
    "# Daten nach Woche und Partei gruppieren\n",
    "df_grouped_wordcount = wordcount_2024.groupby([\"week\", \"word\"])[\"count\"].sum().reset_index()\n",
    "\n",
    "# Events für 2024\n",
    "events = [\n",
    "    {\"date\": \"2024-01-15\", \"label\": \"Demonstrationen\\n gegen\\n Rechtsextremismus\", \"y_position\": 200},\n",
    "    {\"date\": \"2024-05-06\", \"label\": \"Europawahlen\", \"y_position\": 900},\n",
    "    {\"date\": \"2024-06-03\", \"label\": \"AfD stärkste Kraft\\n bei Europawahl\", \"y_position\": 1000},\n",
    "    {\"date\": \"2024-09-09\", \"label\": \"Landtagswahlen Sachsen\\n & Thüringen\", \"y_position\": 1000},\n",
    "    {\"date\": \"2024-11-11\", \"label\": \"Bruch der \\nRegierungskoalition\", \"y_position\": 900},\n",
    "]\n",
    "\n",
    "# Plot erstellen\n",
    "plt.figure(figsize=(10, 6))\n",
    "ax1 = plt.gca()\n",
    "\n",
    "# Plot für Wordcount-Daten (pro Woche)\n",
    "for word in [\"spd\", \"cdu\", \"afd\", \"grünen\"]:\n",
    "    temp_df = df_grouped_wordcount[df_grouped_wordcount[\"word\"] == word]\n",
    "    ax1.plot(\n",
    "        temp_df[\"week\"],\n",
    "        temp_df[\"count\"],\n",
    "        label=word.upper(),\n",
    "        color=parteifarben.get(word, \"grey\"),\n",
    "        linewidth=1,\n",
    "    )\n",
    "\n",
    "# Achsentitel und Skalierung\n",
    "ax1.tick_params(axis=\"y\", labelsize=8, labelcolor=\"black\")\n",
    "ax1.tick_params(axis=\"x\", labelsize=8)\n",
    "ax1.yaxis.set_major_formatter(mticker.FuncFormatter(lambda x, _: f\"{x * 0.001:.1f}\"))\n",
    "\n",
    "# Ereignisse markieren und Position der Textbeschriftung anpassen\n",
    "for event in events:\n",
    "    # Linie von der X-Achse bis zur Y-Position der Beschriftung zeichnen\n",
    "    plt.plot(\n",
    "        [pd.to_datetime(event[\"date\"]), pd.to_datetime(event[\"date\"])],\n",
    "        [0, event[\"y_position\"] + 50],  # Y-Werte von 0 bis zur Position der Beschriftung\n",
    "        color=\"grey\", linestyle=\"--\", linewidth=0.8\n",
    "    )\n",
    "    \n",
    "    # Textbeschriftung hinzufügen, leicht verschoben\n",
    "    plt.text(\n",
    "        pd.to_datetime(event[\"date\"]),\n",
    "        event[\"y_position\"] + 50,  # Verschiebung nach oben\n",
    "        event[\"label\"],\n",
    "        rotation=0,  # Waagerecht (0 Grad)\n",
    "        fontsize=8,\n",
    "        va=\"bottom\",\n",
    "        ha=\"center\",\n",
    "        color=\"black\"  # Schriftfarbe in Schwarz\n",
    "    )\n",
    "\n",
    "\n",
    "# Entferne die rechte Umrandung (Spine)\n",
    "ax1.spines[\"right\"].set_linewidth(0)  # Entferne die rechte Linie\n",
    "ax1.spines[\"left\"].set_linewidth(0)   # Entferne die linke Linie\n",
    "ax1.spines[\"top\"].set_linewidth(0)    # Entferne die obere Linie\n",
    "ax1.spines[\"bottom\"].set_linewidth(0)  # Entferne die untere Linie\n",
    "\n",
    "# Legende\n",
    "plt.legend(title=\"Parteien\", loc=\"upper left\", fontsize=6.5, facecolor=\"white\", edgecolor=\"white\", labelcolor=\"black\")\n",
    "plt.tight_layout()\n",
    "\n",
    "# Plot anzeigen\n",
    "plt.show()\n"
   ]
  },
  {
   "cell_type": "code",
   "execution_count": null,
   "id": "dae363d3",
   "metadata": {},
   "outputs": [],
   "source": []
  }
 ],
 "metadata": {
  "kernelspec": {
   "display_name": "dennis",
   "language": "python",
   "name": "python3"
  },
  "language_info": {
   "codemirror_mode": {
    "name": "ipython",
    "version": 3
   },
   "file_extension": ".py",
   "mimetype": "text/x-python",
   "name": "python",
   "nbconvert_exporter": "python",
   "pygments_lexer": "ipython3",
   "version": "3.10.16"
  }
 },
 "nbformat": 4,
 "nbformat_minor": 5
}
