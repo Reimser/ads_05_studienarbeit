{
 "cells": [
  {
   "cell_type": "markdown",
   "id": "f4e7ddaf-8d2f-442f-8e67-db7a081383a7",
   "metadata": {},
   "source": [
    "# Visualize"
   ]
  },
  {
   "cell_type": "markdown",
   "id": "34b9cbf8-ee8e-4021-9ee0-74bae733f725",
   "metadata": {},
   "source": [
    "## Import"
   ]
  },
  {
   "cell_type": "code",
   "execution_count": 25,
   "id": "3faaccce-1bc1-4705-96aa-a62dd4a3c96c",
   "metadata": {},
   "outputs": [],
   "source": [
    "import pandas as pd\n",
    "import matplotlib.pyplot as plt\n",
    "import matplotlib.dates as mdates\n",
    "import matplotlib.lines as mlines\n",
    "import numpy as np\n",
    "import os\n",
    "from datetime import datetime\n",
    "from matplotlib import patheffects\n",
    "import matplotlib.ticker as ticker\n",
    "from matplotlib.lines import Line2D\n",
    "import matplotlib.dates as mdates\n",
    "import matplotlib.ticker as mticker\n",
    "import plotly.graph_objects as go\n"
   ]
  },
  {
   "cell_type": "code",
   "execution_count": 26,
   "id": "29ee028c-bd9e-475d-bb4d-81fd8cc1d225",
   "metadata": {},
   "outputs": [],
   "source": [
    "# Pfad\n",
    "TEMPLATE_PATH = os.path.abspath(os.path.join(os.getcwd(), \"..\", \"..\", \"_templates\"))"
   ]
  },
  {
   "cell_type": "code",
   "execution_count": 27,
   "id": "4757e810-c54f-45bc-b5b1-3d45b6fe6b6d",
   "metadata": {},
   "outputs": [],
   "source": [
    "# Daten einlesen\n",
    "wahlen_df = pd.read_pickle(os.path.join(TEMPLATE_PATH, \"wahlen.pickle\"))\n",
    "wordcount_df = pd.read_pickle(os.path.join(TEMPLATE_PATH, \"wordcount.pickle\"))"
   ]
  },
  {
   "cell_type": "code",
   "execution_count": 28,
   "id": "6e07c239-a1e5-4d45-94de-ccdc877c4686",
   "metadata": {},
   "outputs": [],
   "source": [
    "# Liste der Parteifarben\n",
    "parteifarben = {'cdu': 'black', 'spd': 'red', 'grüne': 'green','grünen': 'green',\n",
    "                'fdp': '#DAA520', 'linke': 'purple', 'afd': 'blue'}"
   ]
  },
  {
   "cell_type": "markdown",
   "id": "abcbcc3c-133c-4fb0-84e7-4dd340e475ee",
   "metadata": {},
   "source": [
    "## Inspect"
   ]
  },
  {
   "cell_type": "code",
   "execution_count": 29,
   "id": "ca418144",
   "metadata": {},
   "outputs": [
    {
     "data": {
      "text/html": [
       "<div>\n",
       "<style scoped>\n",
       "    .dataframe tbody tr th:only-of-type {\n",
       "        vertical-align: middle;\n",
       "    }\n",
       "\n",
       "    .dataframe tbody tr th {\n",
       "        vertical-align: top;\n",
       "    }\n",
       "\n",
       "    .dataframe thead th {\n",
       "        text-align: right;\n",
       "    }\n",
       "</style>\n",
       "<table border=\"1\" class=\"dataframe\">\n",
       "  <thead>\n",
       "    <tr style=\"text-align: right;\">\n",
       "      <th></th>\n",
       "      <th>date</th>\n",
       "      <th>word</th>\n",
       "      <th>paper</th>\n",
       "      <th>count</th>\n",
       "      <th>month</th>\n",
       "      <th>quarter</th>\n",
       "    </tr>\n",
       "  </thead>\n",
       "  <tbody>\n",
       "    <tr>\n",
       "      <th>0</th>\n",
       "      <td>2021-04-01</td>\n",
       "      <td>afd</td>\n",
       "      <td>faz</td>\n",
       "      <td>2</td>\n",
       "      <td>2021-04</td>\n",
       "      <td>2021Q2</td>\n",
       "    </tr>\n",
       "    <tr>\n",
       "      <th>1</th>\n",
       "      <td>2021-04-01</td>\n",
       "      <td>afd</td>\n",
       "      <td>tagesspiegel</td>\n",
       "      <td>1</td>\n",
       "      <td>2021-04</td>\n",
       "      <td>2021Q2</td>\n",
       "    </tr>\n",
       "    <tr>\n",
       "      <th>2</th>\n",
       "      <td>2021-04-01</td>\n",
       "      <td>afd</td>\n",
       "      <td>uebermedien</td>\n",
       "      <td>5</td>\n",
       "      <td>2021-04</td>\n",
       "      <td>2021Q2</td>\n",
       "    </tr>\n",
       "    <tr>\n",
       "      <th>3</th>\n",
       "      <td>2021-04-01</td>\n",
       "      <td>cdu</td>\n",
       "      <td>berliner</td>\n",
       "      <td>1</td>\n",
       "      <td>2021-04</td>\n",
       "      <td>2021Q2</td>\n",
       "    </tr>\n",
       "    <tr>\n",
       "      <th>4</th>\n",
       "      <td>2021-04-01</td>\n",
       "      <td>cdu</td>\n",
       "      <td>dlf</td>\n",
       "      <td>6</td>\n",
       "      <td>2021-04</td>\n",
       "      <td>2021Q2</td>\n",
       "    </tr>\n",
       "  </tbody>\n",
       "</table>\n",
       "</div>"
      ],
      "text/plain": [
       "        date word         paper  count    month quarter\n",
       "0 2021-04-01  afd           faz      2  2021-04  2021Q2\n",
       "1 2021-04-01  afd  tagesspiegel      1  2021-04  2021Q2\n",
       "2 2021-04-01  afd   uebermedien      5  2021-04  2021Q2\n",
       "3 2021-04-01  cdu      berliner      1  2021-04  2021Q2\n",
       "4 2021-04-01  cdu           dlf      6  2021-04  2021Q2"
      ]
     },
     "execution_count": 29,
     "metadata": {},
     "output_type": "execute_result"
    }
   ],
   "source": [
    "wordcount_df.head() "
   ]
  },
  {
   "cell_type": "code",
   "execution_count": 30,
   "id": "188f1a47",
   "metadata": {},
   "outputs": [
    {
     "data": {
      "text/html": [
       "<div>\n",
       "<style scoped>\n",
       "    .dataframe tbody tr th:only-of-type {\n",
       "        vertical-align: middle;\n",
       "    }\n",
       "\n",
       "    .dataframe tbody tr th {\n",
       "        vertical-align: top;\n",
       "    }\n",
       "\n",
       "    .dataframe thead th {\n",
       "        text-align: right;\n",
       "    }\n",
       "</style>\n",
       "<table border=\"1\" class=\"dataframe\">\n",
       "  <thead>\n",
       "    <tr style=\"text-align: right;\">\n",
       "      <th></th>\n",
       "      <th>date</th>\n",
       "      <th>cdu</th>\n",
       "      <th>spd</th>\n",
       "      <th>grüne</th>\n",
       "      <th>fdp</th>\n",
       "      <th>linke</th>\n",
       "      <th>afd</th>\n",
       "      <th>bsw</th>\n",
       "      <th>quarter</th>\n",
       "      <th>month</th>\n",
       "    </tr>\n",
       "  </thead>\n",
       "  <tbody>\n",
       "    <tr>\n",
       "      <th>0</th>\n",
       "      <td>2021-04-16</td>\n",
       "      <td>31</td>\n",
       "      <td>14</td>\n",
       "      <td>21</td>\n",
       "      <td>9</td>\n",
       "      <td>7</td>\n",
       "      <td>11</td>\n",
       "      <td>0</td>\n",
       "      <td>2021Q2</td>\n",
       "      <td>2021-04</td>\n",
       "    </tr>\n",
       "    <tr>\n",
       "      <th>1</th>\n",
       "      <td>2021-05-07</td>\n",
       "      <td>25</td>\n",
       "      <td>14</td>\n",
       "      <td>26</td>\n",
       "      <td>10</td>\n",
       "      <td>7</td>\n",
       "      <td>11</td>\n",
       "      <td>0</td>\n",
       "      <td>2021Q2</td>\n",
       "      <td>2021-05</td>\n",
       "    </tr>\n",
       "    <tr>\n",
       "      <th>2</th>\n",
       "      <td>2021-05-21</td>\n",
       "      <td>24</td>\n",
       "      <td>14</td>\n",
       "      <td>25</td>\n",
       "      <td>11</td>\n",
       "      <td>7</td>\n",
       "      <td>11</td>\n",
       "      <td>0</td>\n",
       "      <td>2021Q2</td>\n",
       "      <td>2021-05</td>\n",
       "    </tr>\n",
       "    <tr>\n",
       "      <th>3</th>\n",
       "      <td>2021-06-10</td>\n",
       "      <td>28</td>\n",
       "      <td>15</td>\n",
       "      <td>22</td>\n",
       "      <td>10</td>\n",
       "      <td>7</td>\n",
       "      <td>11</td>\n",
       "      <td>0</td>\n",
       "      <td>2021Q2</td>\n",
       "      <td>2021-06</td>\n",
       "    </tr>\n",
       "    <tr>\n",
       "      <th>4</th>\n",
       "      <td>2021-06-25</td>\n",
       "      <td>29</td>\n",
       "      <td>14</td>\n",
       "      <td>22</td>\n",
       "      <td>10</td>\n",
       "      <td>7</td>\n",
       "      <td>10</td>\n",
       "      <td>0</td>\n",
       "      <td>2021Q2</td>\n",
       "      <td>2021-06</td>\n",
       "    </tr>\n",
       "  </tbody>\n",
       "</table>\n",
       "</div>"
      ],
      "text/plain": [
       "        date  cdu  spd  grüne  fdp  linke  afd  bsw quarter    month\n",
       "0 2021-04-16   31   14     21    9      7   11    0  2021Q2  2021-04\n",
       "1 2021-05-07   25   14     26   10      7   11    0  2021Q2  2021-05\n",
       "2 2021-05-21   24   14     25   11      7   11    0  2021Q2  2021-05\n",
       "3 2021-06-10   28   15     22   10      7   11    0  2021Q2  2021-06\n",
       "4 2021-06-25   29   14     22   10      7   10    0  2021Q2  2021-06"
      ]
     },
     "execution_count": 30,
     "metadata": {},
     "output_type": "execute_result"
    }
   ],
   "source": [
    "wahlen_df.head()"
   ]
  },
  {
   "cell_type": "markdown",
   "id": "63bccd54-2d12-4384-9c4f-7609a2f2227f",
   "metadata": {},
   "source": [
    "## CDU und SPD Plott"
   ]
  },
  {
   "cell_type": "markdown",
   "id": "f4fb615f",
   "metadata": {},
   "source": [
    "Dieses Skript erstellt einen Plot, der die Häufigkeit bestimmter Wörter \n",
    "(Wordcount) im Zeitverlauf mit den Zustimmungswerten von politischen Parteien \n",
    "(Politbarometer) vergleicht. Zusätzlich werden wichtige Ereignisse markiert."
   ]
  },
  {
   "cell_type": "code",
   "execution_count": 31,
   "id": "a19249f8",
   "metadata": {},
   "outputs": [],
   "source": [
    "# Liste der Wörter, die behalten werden sollen\n",
    "words_to_keep = [\"grünen\", \"afd\"]\n",
    "wordkeep = [\"spd\", \"cdu\"]\n",
    "# Filtern des DataFrames, um nur die gewünschten Wörter zu behalten\n",
    "neue_parteien = wordcount_df[wordcount_df[\"word\"].isin(words_to_keep)]\n",
    "alt_parteien = wordcount_df[wordcount_df[\"word\"].isin(wordkeep)]"
   ]
  },
  {
   "cell_type": "code",
   "execution_count": 32,
   "id": "c6b2eb08-5fa0-4ab2-ba83-7eeb6e5f8490",
   "metadata": {},
   "outputs": [
    {
     "data": {
      "image/png": "[encoded data removed]",
      "text/plain": [
       "<Figure size 1000x600 with 2 Axes>"
      ]
     },
     "metadata": {},
     "output_type": "display_data"
    }
   ],
   "source": [
    "# Erstellen der Plot-Figur\n",
    "plt.figure(figsize=(10, 6))  # Definiert die Größe der gesamten Plot-Figur\n",
    "ax1 = plt.gca()  # Erstellt die erste y-Achse (linke Achse)\n",
    "\n",
    "# Daten vorbereiten für den ersten Plot (Wordcount)\n",
    "df_grouped_wordcount = pd.DataFrame()  # Initialisiere ein leeres DataFrame für Wordcount-Daten\n",
    "for word in alt_parteien['word'].unique():  # Iteriere über jedes einzigartige Wort in der 'word'-Spalte\n",
    "    # Aggregiere die 'count'-Werte pro Monat für das aktuelle Wort\n",
    "    temp_df = alt_parteien[alt_parteien['word'] == word].groupby('month').agg({'count': 'sum'}).reset_index()  \n",
    "    temp_df['word'] = word  # Füge die aktuelle Wortzuordnung hinzu\n",
    "    df_grouped_wordcount = pd.concat([df_grouped_wordcount, temp_df], ignore_index=True)  # Füge die Daten zusammen\n",
    "\n",
    "# Erster Plot (wordcount)\n",
    "for word in df_grouped_wordcount['word'].unique():  # Iteriere über alle Wörter in den vorbereiteten Daten\n",
    "    temp_df = df_grouped_wordcount[df_grouped_wordcount['word'] == word]  # Filtere Daten für das aktuelle Wort\n",
    "    color = parteifarben.get(word, 'black')  # Hole die Farbe aus der 'parteifarben'-Datenstruktur, Standard: Schwarz\n",
    "    ax1.plot(temp_df['month'], temp_df['count'],linewidth=0.9, linestyle='-', color=color)  # Plotte die Daten für das Wort\n",
    "\n",
    "ax1.set_xlabel('')  # Entfernt die Beschriftung der x-Achse\n",
    "\n",
    "# Werte der linken Y-Achse skalieren (Wordcount)\n",
    "ax1.yaxis.set_major_formatter(mticker.FuncFormatter(lambda x, _: f\"{x * 0.001:.1f}\"))  # Verschiebt das Komma drei Stellen nach links\n",
    "ax1.set_ylabel('Wordcount (in Tausend)')  # Beschriftung anpassen\n",
    "ax1.tick_params(axis='y', labelcolor='black')  # Setzt die Farbe der y-Achse auf Schwarz\n",
    "ax1.set_xticks(df_grouped_wordcount['month'].unique())  # Setzt die Monate als x-Achsenticks\n",
    "ax1.set_xticklabels(df_grouped_wordcount['month'].unique(), rotation=45)  # Dreht die Labels um 45 Grad\n",
    "\n",
    "# Jedes zweite Datum auf der x-Achse anzeigen\n",
    "unique_months = df_grouped_wordcount['month'].unique()  # Liste aller einzigartigen Monate\n",
    "ax1.set_xticks(unique_months[::2])  # Zeigt nur jeden zweiten Monat\n",
    "ax1.set_xticklabels(unique_months[::2], rotation=45)  # Dreht die Labels erneut um 45 Grad\n",
    "\n",
    "\n",
    "# Daten vorbereiten für den zweiten Plot (wahlen)\n",
    "df_grouped_parties = wahlen_df.groupby('month').first().reset_index()  # Aggregiere die Wahlen-Daten nach Monat\n",
    "\n",
    "# Zweiter Plot (wahlen) mit zweiter y-Achse\n",
    "ax2 = ax1.twinx()  # Erstellt eine zweite y-Achse (rechte Achse)\n",
    "party_lines = []  # Liste zum Speichern der Linien für die Legende\n",
    "for column in ['cdu', 'spd']:  # Iteriere über die Parteien\n",
    "    color = parteifarben.get(column, 'black')  # Hole die Farbe der Partei\n",
    "    # Plotte die Werte der Partei \n",
    "    line, = ax2.plot(df_grouped_parties['month'], df_grouped_parties[column],\n",
    "                     linewidth=0.8, linestyle=\"--\", label=column.upper(), color=color) \n",
    "    party_lines.append(line)  # Speichere die Linie für die Legende\n",
    "\n",
    "\n",
    "\n",
    "ax2.set_ylabel('Politbarometer (%)')  # Beschriftet die rechte y-Achse\n",
    "ax2.tick_params(axis='y', labelcolor='black')  # Setzt die Farbe der rechten y-Achse auf Schwarz\n",
    "\n",
    "# Schriftgröße der Zahlen an den Achsen anpassen\n",
    "ax1.tick_params(axis='y', labelsize=7)  # Linke Y-Achse\n",
    "ax2.tick_params(axis='y', labelsize=7)  # Rechte Y-Achse\n",
    "ax1.tick_params(axis='x', labelsize=7)  # X-Achse\n",
    "\n",
    "# Achsen anpassen\n",
    "ax2.spines[\"top\"].set_linewidth(0)  # Entferne die obere Linie\n",
    "ax1.spines[\"top\"].set_linewidth(0)  # Entferne die obere Linie\n",
    "\n",
    "# Legende ändern\n",
    "# Erstelle Legenden-Elemente mit den Farben und Labels der Linien\n",
    "legend_elements = [Line2D([0], [0], color=line.get_color(), lw=1, label=line.get_label()) for line in party_lines]  \n",
    "ax1.legend(handles=legend_elements, loc='upper left', bbox_to_anchor=(-0, 1.08), markerfirst=False, fontsize=7)  # Platziert die Legende\n",
    "\n",
    "# Events markieren\n",
    "events = [(\"2021-07\", \"Laschets\\nLacher\", 31), \n",
    "          (\"2021-09\", \"Bundes-\\ntagswahlen\", 14.5),\n",
    "          (\"2023-04\", \"Ende der\\nCorona-\\nPandemie\", 26), \n",
    "          (\"2022-02\", \"Russland-\\nUkraine\\nKrieg\", 27),\n",
    "          (\"2022-05\", \"Merz Besuch\\nin der\\nUkraine\", 32),\n",
    "          (\"2023-07\", \"Flüchtlilings-\\nkriese\", 30),\n",
    "          (\"2023-09\", \"Migrations--\\ngipfel\", 23),\n",
    "          (\"2024-05\", \"Europawahlen\", 26),\n",
    "          (\"2024-11\", \"Bruch der\\nAmpel-\\nkoalition\", 14)]  # Definiert die Events\n",
    "\n",
    "for event_x, event_label, y_position in events:  # Iteriere über die Events\n",
    "    plt.axvline(x=event_x, color='grey', linestyle='-', linewidth=0.3)  # Zeichnet vertikale Linie für jedes Event\n",
    "    text = plt.text(event_x, y_position, event_label, rotation=0, fontsize=7.5)  # Fügt Text an die Linie hinzu\n",
    "    text.set_horizontalalignment('center')  # Zentriert den Text horizontal\n",
    "\n",
    "# Plot\n",
    "plt.title('Vergleich von Wordcount (Linie) und Parteienentwicklung (gestrichelt)')  # Setzt den Titel des Plots\n",
    "plt.show()  # Zeigt den Plot an"
   ]
  },
  {
   "cell_type": "markdown",
   "id": "8d3adb61-8676-4609-bacf-5df2639544e3",
   "metadata": {},
   "source": [
    "## Grünen Afd Plott"
   ]
  },
  {
   "cell_type": "markdown",
   "id": "68ba665f",
   "metadata": {},
   "source": [
    "Dieses Skript erstellt einen Plot, der die Häufigkeit bestimmter Wörter \n",
    "(Wordcount) im Zeitverlauf mit den Zustimmungswerten von politischen Parteien \n",
    "(Politbarometer) vergleicht. Zusätzlich werden wichtige Ereignisse markiert."
   ]
  },
  {
   "cell_type": "code",
   "execution_count": 33,
   "id": "e1a6f58e-9f76-41bc-9fa8-d02f1b410fdb",
   "metadata": {},
   "outputs": [
    {
     "data": {
      "image/png": "[encoded data removed]",
      "text/plain": [
       "<Figure size 1000x600 with 2 Axes>"
      ]
     },
     "metadata": {},
     "output_type": "display_data"
    }
   ],
   "source": [
    "# Erstellen der Plot-Figur\n",
    "plt.figure(figsize=(10, 6))  # Definiert die Größe der Plot-Figur\n",
    "ax1 = plt.gca()  # Erstellt die erste y-Achse (linke Achse)\n",
    "\n",
    "# Daten vorbereiten für den ersten Plot (Wordcount)\n",
    "df_grouped_wordcount = pd.DataFrame()  # Initialisiere ein leeres DataFrame für Wordcount-Daten\n",
    "for word in neue_parteien['word'].unique():  # Iteriere über jedes einzigartige Wort in der 'word'-Spalte\n",
    "    # Aggregiere die 'count'-Werte pro Monat für das aktuelle Wort\n",
    "    temp_df = neue_parteien[neue_parteien['word'] == word].groupby('month').agg({'count': 'sum'}).reset_index()  \n",
    "    temp_df['word'] = word  # Füge die aktuelle Wortzuordnung hinzu\n",
    "    df_grouped_wordcount = pd.concat([df_grouped_wordcount, temp_df], ignore_index=True)  # Füge die Daten zusammen\n",
    "\n",
    "# Erster Plot (Wörter)\n",
    "for word in df_grouped_wordcount['word'].unique():  # Iteriere über alle Wörter in den vorbereiteten Daten\n",
    "    temp_df = df_grouped_wordcount[df_grouped_wordcount['word'] == word]  # Filtere Daten für das aktuelle Wort\n",
    "    color = parteifarben.get(word, 'black')  # Hole die Farbe aus der 'parteifarben'-Datenstruktur, Standard: Schwarz\n",
    "    ax1.plot(temp_df['month'], temp_df['count'], linewidth=0.9,linestyle='-', color=color)  # Plotte die Daten für das Wort\n",
    "\n",
    "ax1.set_xlabel('')  # Entfernt die Beschriftung der x-Achse\n",
    "# Werte der linken Y-Achse skalieren (Wordcount)\n",
    "ax1.yaxis.set_major_formatter(mticker.FuncFormatter(lambda x, _: f\"{x * 0.001:.1f}\"))  # Verschiebt das Komma drei Stellen nach links\n",
    "ax1.set_ylabel('Wordcount (in Tausend)')  # Beschriftung anpassen\n",
    "ax1.tick_params(axis='y', labelcolor='black')  # Setzt die Farbe der y-Achse auf Schwarz\n",
    "ax1.set_xticks(df_grouped_wordcount['month'].unique())  # Setzt die Monate als x-Achsenticks\n",
    "ax1.set_xticklabels(df_grouped_wordcount['month'].unique(), rotation=45)  # Dreht die Labels um 45 Grad\n",
    "\n",
    "\n",
    "# Anzeige von jedem zweiten Datum auf der x-Achse\n",
    "unique_months = df_grouped_wordcount['month'].unique()  # Liste aller einzigartigen Monate\n",
    "ax1.set_xticks(unique_months[::2])  # Zeigt nur jeden zweiten Monat\n",
    "ax1.set_xticklabels(unique_months[::2], rotation=45)  # Dreht die Labels erneut um 45 Grad\n",
    "\n",
    "# Daten vorbereiten für den zweiten Plot (wahlen)\n",
    "df_grouped_parties = wahlen_df.groupby('month').first().reset_index()  # Aggregiere die Wahlen-Daten nach Monat\n",
    "\n",
    "# Zweiter Plot (wahlen) mit zweiter y-Achse\n",
    "ax2 = ax1.twinx()  # Erstellt eine zweite y-Achse (rechte Achse)\n",
    "party_lines = []  # Liste zum Speichern der Linien für die Legende\n",
    "for column in ['grüne', 'afd']:  # Iteriere über die Parteien\n",
    "    color = parteifarben.get(column, 'black')  # Hole die Farbe der Partei\n",
    "    # Plotte die Werte der Partei \n",
    "    line, = ax2.plot(df_grouped_parties['month'], df_grouped_parties[column],\n",
    "                     linewidth=0.8, linestyle=\"--\", label=column.upper(), color=color) \n",
    "    party_lines.append(line)  # Speichere die Linie für die Legende\n",
    "\n",
    "ax2.set_ylabel('Politbarometer (%)')  # Beschriftet die rechte y-Achse\n",
    "ax2.tick_params(axis='y', labelcolor='black')  # Setzt die Farbe der rechten y-Achse auf Schwarz\n",
    "\n",
    "# Schriftgröße der Zahlen an den Achsen anpassen\n",
    "ax1.tick_params(axis='y', labelsize=7)  # Linke Y-Achse\n",
    "ax2.tick_params(axis='y', labelsize=7)  # Rechte Y-Achse\n",
    "ax1.tick_params(axis='x', labelsize=7)  # X-Achse\n",
    "\n",
    "ax2.spines[\"top\"].set_linewidth(0)  # Entferne die obere Linie\n",
    "ax1.spines[\"top\"].set_linewidth(0)  # Entferne die obere Linie\n",
    "\n",
    "# Legende ändern\n",
    "# Erstelle Legenden-Elemente mit den Farben und Labels der Linien\n",
    "legend_elements = [Line2D([0], [0], color=line.get_color(), lw=1, label=line.get_label()) for line in party_lines]  \n",
    "ax1.legend(handles=legend_elements, loc='upper left', bbox_to_anchor=(-0, 1.08), markerfirst=False, fontsize=7)  # Platziert die Legende\n",
    "\n",
    "# Events markieren\n",
    "events = [(\"2021-05\", \"Plagiatsvorwürfe\\nBaerbock\", 18),\n",
    "          (\"2022-02\", \"Russland-Ukraine\\nKrieg\", 14.4),\n",
    "          (\"2023-04\", \"Heizungsstreit\", 25),\n",
    "          (\"2023-07\", \"Demonstrationen\\ngegen die AfD\", 22),\n",
    "          (\"2022-08\", \"Beginn der\\nEnergiekriese\", 18),\n",
    "          (\"2024-01\", \"Landesweite\\nBauernproteste\", 10),\n",
    "          (\"2024-09\", \"Landtagswahlen\\nBrandenburg\", 25.5),\n",
    "          ]  # Definiere die Events vb\n",
    "\n",
    "for event_x, event_label, y_position in events:  # Iteriere über die Events\n",
    "    plt.axvline(x=event_x, color='grey', linestyle='-', linewidth=0.3)  # Zeichnet vertikale Linie für jedes Event\n",
    "    text = plt.text(event_x, y_position, event_label, rotation=0, fontsize=7.5)  # Fügt Text an die Linie hinzu\n",
    "    text.set_horizontalalignment('center')  # Zentriert den Text horizontal\n",
    "\n",
    "# Plot\n",
    "plt.title('Vergleich von Wordcount (Linie) und Politabarometer (gestrichelt)')  # Setzt den Titel des Plots\n",
    "plt.show()  # Zeigt den Plot an"
   ]
  },
  {
   "cell_type": "code",
   "execution_count": 34,
   "id": "8856d515",
   "metadata": {},
   "outputs": [],
   "source": [
    "# Spalte \"grüne\" in \"grünen\" umbenennen\n",
    "wahlen_df = wahlen_df.rename(columns={\"grüne\": \"grünen\"})"
   ]
  },
  {
   "cell_type": "code",
   "execution_count": 35,
   "id": "6b41528f",
   "metadata": {},
   "outputs": [
    {
     "data": {
      "application/vnd.plotly.v1+json": {
       "config": {
        "plotlyServerURL": "https://plot.ly"
       },
       "data": [
        {
         "hoverinfo": "x+name",
         "line": {
          "color": "grey",
          "dash": "dot"
         },
         "mode": "lines",
         "name": "Bundestagswahlen",
         "type": "scatter",
         "x": [
          "2021-09",
          "2021-09"
         ],
         "y": [
          0,
          3000
         ]
        },
        {
         "hoverinfo": "x+name",
         "line": {
          "color": "grey",
          "dash": "dot"
         },
         "mode": "lines",
         "name": "Russland-Ukraine Krieg",
         "type": "scatter",
         "x": [
          "2022-02",
          "2022-02"
         ],
         "y": [
          0,
          3000
         ]
        },
        {
         "hoverinfo": "x+name",
         "line": {
          "color": "grey",
          "dash": "dot"
         },
         "mode": "lines",
         "name": "Heizungsstreit",
         "type": "scatter",
         "x": [
          "2023-04",
          "2023-04"
         ],
         "y": [
          0,
          3000
         ]
        },
        {
         "hoverinfo": "x+name",
         "line": {
          "color": "grey",
          "dash": "dot"
         },
         "mode": "lines",
         "name": "Migrationsgipfel",
         "type": "scatter",
         "x": [
          "2023-09",
          "2023-09"
         ],
         "y": [
          0,
          3000
         ]
        },
        {
         "line": {
          "color": "blue"
         },
         "mode": "lines",
         "name": "Wordcount: AFD",
         "type": "scatter",
         "x": [
          "2021-04",
          "2021-05",
          "2021-06",
          "2021-07",
          "2021-08",
          "2021-09",
          "2021-10",
          "2021-11",
          "2021-12",
          "2022-01",
          "2022-02",
          "2022-03",
          "2022-04",
          "2022-05",
          "2022-06",
          "2022-07",
          "2022-08",
          "2022-09",
          "2022-10",
          "2022-11",
          "2022-12",
          "2023-01",
          "2023-02",
          "2023-03",
          "2023-04",
          "2023-05",
          "2023-06",
          "2023-07",
          "2023-08",
          "2023-09",
          "2023-10",
          "2023-11",
          "2023-12",
          "2024-01",
          "2024-02",
          "2024-03",
          "2024-04",
          "2024-05",
          "2024-06",
          "2024-07",
          "2024-08",
          "2024-09",
          "2024-10",
          "2024-11"
         ],
         "y": [
          363,
          375,
          720,
          312,
          348,
          717,
          427,
          200,
          405,
          433,
          252,
          295,
          188,
          254,
          557,
          189,
          126,
          227,
          391,
          117,
          454,
          129,
          399,
          246,
          211,
          347,
          1492,
          1798,
          1411,
          1457,
          1219,
          349,
          693,
          3245,
          2035,
          1318,
          1532,
          2077,
          2077,
          1085,
          1520,
          3078,
          1269,
          791
         ],
         "yaxis": "y"
        },
        {
         "line": {
          "color": "black"
         },
         "mode": "lines",
         "name": "Wordcount: CDU",
         "type": "scatter",
         "x": [
          "2021-04",
          "2021-05",
          "2021-06",
          "2021-07",
          "2021-08",
          "2021-09",
          "2021-10",
          "2021-11",
          "2021-12",
          "2022-01",
          "2022-02",
          "2022-03",
          "2022-04",
          "2022-05",
          "2022-06",
          "2022-07",
          "2022-08",
          "2022-09",
          "2022-10",
          "2022-11",
          "2022-12",
          "2023-01",
          "2023-02",
          "2023-03",
          "2023-04",
          "2023-05",
          "2023-06",
          "2023-07",
          "2023-08",
          "2023-09",
          "2023-10",
          "2023-11",
          "2023-12",
          "2024-01",
          "2024-02",
          "2024-03",
          "2024-04",
          "2024-05",
          "2024-06",
          "2024-07",
          "2024-08",
          "2024-09",
          "2024-10",
          "2024-11"
         ],
         "y": [
          1513,
          806,
          986,
          674,
          869,
          1376,
          1801,
          1020,
          734,
          945,
          355,
          315,
          444,
          959,
          513,
          318,
          269,
          636,
          447,
          374,
          295,
          580,
          856,
          759,
          640,
          440,
          747,
          1078,
          504,
          1026,
          726,
          517,
          662,
          748,
          594,
          652,
          637,
          1270,
          724,
          591,
          795,
          1399,
          740,
          841
         ],
         "yaxis": "y"
        },
        {
         "line": {
          "color": "green"
         },
         "mode": "lines",
         "name": "Wordcount: GRÜNEN",
         "type": "scatter",
         "x": [
          "2021-04",
          "2021-05",
          "2021-06",
          "2021-07",
          "2021-08",
          "2021-09",
          "2021-10",
          "2021-11",
          "2021-12",
          "2022-01",
          "2022-02",
          "2022-03",
          "2022-04",
          "2022-05",
          "2022-06",
          "2022-07",
          "2022-08",
          "2022-09",
          "2022-10",
          "2022-11",
          "2022-12",
          "2023-01",
          "2023-02",
          "2023-03",
          "2023-04",
          "2023-05",
          "2023-06",
          "2023-07",
          "2023-08",
          "2023-09",
          "2023-10",
          "2023-11",
          "2023-12",
          "2024-01",
          "2024-02",
          "2024-03",
          "2024-04",
          "2024-05",
          "2024-06",
          "2024-07",
          "2024-08",
          "2024-09",
          "2024-10",
          "2024-11"
         ],
         "y": [
          907,
          996,
          1186,
          901,
          837,
          1211,
          1190,
          755,
          548,
          668,
          410,
          267,
          404,
          677,
          477,
          358,
          403,
          457,
          654,
          347,
          407,
          609,
          563,
          631,
          563,
          842,
          775,
          398,
          410,
          384,
          481,
          640,
          458,
          393,
          599,
          458,
          426,
          482,
          647,
          546,
          502,
          1016,
          704,
          808
         ],
         "yaxis": "y"
        },
        {
         "line": {
          "color": "red"
         },
         "mode": "lines",
         "name": "Wordcount: SPD",
         "type": "scatter",
         "x": [
          "2021-04",
          "2021-05",
          "2021-06",
          "2021-07",
          "2021-08",
          "2021-09",
          "2021-10",
          "2021-11",
          "2021-12",
          "2022-01",
          "2022-02",
          "2022-03",
          "2022-04",
          "2022-05",
          "2022-06",
          "2022-07",
          "2022-08",
          "2022-09",
          "2022-10",
          "2022-11",
          "2022-12",
          "2023-01",
          "2023-02",
          "2023-03",
          "2023-04",
          "2023-05",
          "2023-06",
          "2023-07",
          "2023-08",
          "2023-09",
          "2023-10",
          "2023-11",
          "2023-12",
          "2024-01",
          "2024-02",
          "2024-03",
          "2024-04",
          "2024-05",
          "2024-06",
          "2024-07",
          "2024-08",
          "2024-09",
          "2024-10",
          "2024-11"
         ],
         "y": [
          475,
          640,
          569,
          510,
          1030,
          2160,
          1660,
          860,
          997,
          527,
          501,
          558,
          763,
          954,
          577,
          492,
          719,
          534,
          612,
          530,
          400,
          590,
          713,
          906,
          835,
          648,
          445,
          469,
          529,
          538,
          627,
          593,
          789,
          647,
          485,
          729,
          725,
          1040,
          845,
          512,
          670,
          1280,
          1176,
          1990
         ],
         "yaxis": "y"
        },
        {
         "line": {
          "color": "blue",
          "dash": "dash"
         },
         "mode": "lines",
         "name": "Politbarometer: AFD",
         "type": "scatter",
         "x": [
          "2021-04",
          "2021-05",
          "2021-06",
          "2021-07",
          "2021-08",
          "2021-09",
          "2021-10",
          "2021-11",
          "2021-12",
          "2022-01",
          "2022-02",
          "2022-03",
          "2022-04",
          "2022-05",
          "2022-06",
          "2022-07",
          "2022-08",
          "2022-09",
          "2022-10",
          "2022-11",
          "2022-12",
          "2023-01",
          "2023-02",
          "2023-03",
          "2023-04",
          "2023-05",
          "2023-06",
          "2023-07",
          "2023-08",
          "2023-09",
          "2023-10",
          "2023-11",
          "2023-12",
          "2024-01",
          "2024-02",
          "2024-03",
          "2024-04",
          "2024-05",
          "2024-06",
          "2024-07",
          "2024-08",
          "2024-09",
          "2024-10",
          "2024-11"
         ],
         "y": [
          11,
          11,
          11,
          10,
          11,
          11,
          10,
          11,
          10,
          10,
          11,
          10,
          11,
          10,
          10,
          10,
          12,
          13,
          15,
          15,
          15,
          14,
          14,
          15,
          15,
          15,
          18,
          20,
          20,
          21,
          21,
          21,
          22,
          22,
          19,
          18,
          18,
          16,
          16,
          17,
          16,
          17,
          18,
          18
         ],
         "yaxis": "y2"
        },
        {
         "line": {
          "color": "black",
          "dash": "dash"
         },
         "mode": "lines",
         "name": "Politbarometer: CDU",
         "type": "scatter",
         "x": [
          "2021-04",
          "2021-05",
          "2021-06",
          "2021-07",
          "2021-08",
          "2021-09",
          "2021-10",
          "2021-11",
          "2021-12",
          "2022-01",
          "2022-02",
          "2022-03",
          "2022-04",
          "2022-05",
          "2022-06",
          "2022-07",
          "2022-08",
          "2022-09",
          "2022-10",
          "2022-11",
          "2022-12",
          "2023-01",
          "2023-02",
          "2023-03",
          "2023-04",
          "2023-05",
          "2023-06",
          "2023-07",
          "2023-08",
          "2023-09",
          "2023-10",
          "2023-11",
          "2023-12",
          "2024-01",
          "2024-02",
          "2024-03",
          "2024-04",
          "2024-05",
          "2024-06",
          "2024-07",
          "2024-08",
          "2024-09",
          "2024-10",
          "2024-11"
         ],
         "y": [
          31,
          25,
          28,
          30,
          26,
          22,
          20,
          20,
          21,
          22,
          25,
          24,
          24,
          26,
          26,
          27,
          26,
          28,
          28,
          28,
          28,
          27,
          30,
          29,
          31,
          30,
          28,
          27,
          26,
          26,
          30,
          30,
          32,
          31,
          31,
          30,
          31,
          31,
          30,
          32,
          32,
          33,
          31,
          33
         ],
         "yaxis": "y2"
        },
        {
         "line": {
          "color": "green",
          "dash": "dash"
         },
         "mode": "lines",
         "name": "Politbarometer: GRÜNEN",
         "type": "scatter",
         "x": [
          "2021-04",
          "2021-05",
          "2021-06",
          "2021-07",
          "2021-08",
          "2021-09",
          "2021-10",
          "2021-11",
          "2021-12",
          "2022-01",
          "2022-02",
          "2022-03",
          "2022-04",
          "2022-05",
          "2022-06",
          "2022-07",
          "2022-08",
          "2022-09",
          "2022-10",
          "2022-11",
          "2022-12",
          "2023-01",
          "2023-02",
          "2023-03",
          "2023-04",
          "2023-05",
          "2023-06",
          "2023-07",
          "2023-08",
          "2023-09",
          "2023-10",
          "2023-11",
          "2023-12",
          "2024-01",
          "2024-02",
          "2024-03",
          "2024-04",
          "2024-05",
          "2024-06",
          "2024-07",
          "2024-08",
          "2024-09",
          "2024-10",
          "2024-11"
         ],
         "y": [
          21,
          26,
          22,
          20,
          19,
          17,
          16,
          16,
          17,
          16,
          16,
          18,
          19,
          24,
          25,
          25,
          26,
          23,
          21,
          22,
          20,
          21,
          19,
          18,
          18,
          17,
          16,
          16,
          15,
          16,
          14,
          15,
          14,
          14,
          13,
          15,
          12,
          13,
          14,
          13,
          13,
          11,
          11,
          12
         ],
         "yaxis": "y2"
        },
        {
         "line": {
          "color": "red",
          "dash": "dash"
         },
         "mode": "lines",
         "name": "Politbarometer: SPD",
         "type": "scatter",
         "x": [
          "2021-04",
          "2021-05",
          "2021-06",
          "2021-07",
          "2021-08",
          "2021-09",
          "2021-10",
          "2021-11",
          "2021-12",
          "2022-01",
          "2022-02",
          "2022-03",
          "2022-04",
          "2022-05",
          "2022-06",
          "2022-07",
          "2022-08",
          "2022-09",
          "2022-10",
          "2022-11",
          "2022-12",
          "2023-01",
          "2023-02",
          "2023-03",
          "2023-04",
          "2023-05",
          "2023-06",
          "2023-07",
          "2023-08",
          "2023-09",
          "2023-10",
          "2023-11",
          "2023-12",
          "2024-01",
          "2024-02",
          "2024-03",
          "2024-04",
          "2024-05",
          "2024-06",
          "2024-07",
          "2024-08",
          "2024-09",
          "2024-10",
          "2024-11"
         ],
         "y": [
          14,
          14,
          15,
          15,
          19,
          25,
          28,
          28,
          28,
          27,
          25,
          27,
          27,
          22,
          22,
          21,
          19,
          19,
          19,
          19,
          20,
          20,
          20,
          21,
          18,
          19,
          19,
          17,
          19,
          17,
          15,
          16,
          14,
          13,
          15,
          15,
          16,
          15,
          14,
          14,
          14,
          15,
          16,
          16
         ],
         "yaxis": "y2"
        }
       ],
       "layout": {
        "height": 600,
        "legend": {
         "font": {
          "size": 10
         },
         "orientation": "h",
         "title": {
          "text": "Legende"
         },
         "x": 0.5,
         "xanchor": "center",
         "y": 1.2
        },
        "template": {
         "data": {
          "bar": [
           {
            "error_x": {
             "color": "#2a3f5f"
            },
            "error_y": {
             "color": "#2a3f5f"
            },
            "marker": {
             "line": {
              "color": "white",
              "width": 0.5
             },
             "pattern": {
              "fillmode": "overlay",
              "size": 10,
              "solidity": 0.2
             }
            },
            "type": "bar"
           }
          ],
          "barpolar": [
           {
            "marker": {
             "line": {
              "color": "white",
              "width": 0.5
             },
             "pattern": {
              "fillmode": "overlay",
              "size": 10,
              "solidity": 0.2
             }
            },
            "type": "barpolar"
           }
          ],
          "carpet": [
           {
            "aaxis": {
             "endlinecolor": "#2a3f5f",
             "gridcolor": "#C8D4E3",
             "linecolor": "#C8D4E3",
             "minorgridcolor": "#C8D4E3",
             "startlinecolor": "#2a3f5f"
            },
            "baxis": {
             "endlinecolor": "#2a3f5f",
             "gridcolor": "#C8D4E3",
             "linecolor": "#C8D4E3",
             "minorgridcolor": "#C8D4E3",
             "startlinecolor": "#2a3f5f"
            },
            "type": "carpet"
           }
          ],
          "choropleth": [
           {
            "colorbar": {
             "outlinewidth": 0,
             "ticks": ""
            },
            "type": "choropleth"
           }
          ],
          "contour": [
           {
            "colorbar": {
             "outlinewidth": 0,
             "ticks": ""
            },
            "colorscale": [
             [
              0,
              "#0d0887"
             ],
             [
              0.1111111111111111,
              "#46039f"
             ],
             [
              0.2222222222222222,
              "#7201a8"
             ],
             [
              0.3333333333333333,
              "#9c179e"
             ],
             [
              0.4444444444444444,
              "#bd3786"
             ],
             [
              0.5555555555555556,
              "#d8576b"
             ],
             [
              0.6666666666666666,
              "#ed7953"
             ],
             [
              0.7777777777777778,
              "#fb9f3a"
             ],
             [
              0.8888888888888888,
              "#fdca26"
             ],
             [
              1,
              "#f0f921"
             ]
            ],
            "type": "contour"
           }
          ],
          "contourcarpet": [
           {
            "colorbar": {
             "outlinewidth": 0,
             "ticks": ""
            },
            "type": "contourcarpet"
           }
          ],
          "heatmap": [
           {
            "colorbar": {
             "outlinewidth": 0,
             "ticks": ""
            },
            "colorscale": [
             [
              0,
              "#0d0887"
             ],
             [
              0.1111111111111111,
              "#46039f"
             ],
             [
              0.2222222222222222,
              "#7201a8"
             ],
             [
              0.3333333333333333,
              "#9c179e"
             ],
             [
              0.4444444444444444,
              "#bd3786"
             ],
             [
              0.5555555555555556,
              "#d8576b"
             ],
             [
              0.6666666666666666,
              "#ed7953"
             ],
             [
              0.7777777777777778,
              "#fb9f3a"
             ],
             [
              0.8888888888888888,
              "#fdca26"
             ],
             [
              1,
              "#f0f921"
             ]
            ],
            "type": "heatmap"
           }
          ],
          "heatmapgl": [
           {
            "colorbar": {
             "outlinewidth": 0,
             "ticks": ""
            },
            "colorscale": [
             [
              0,
              "#0d0887"
             ],
             [
              0.1111111111111111,
              "#46039f"
             ],
             [
              0.2222222222222222,
              "#7201a8"
             ],
             [
              0.3333333333333333,
              "#9c179e"
             ],
             [
              0.4444444444444444,
              "#bd3786"
             ],
             [
              0.5555555555555556,
              "#d8576b"
             ],
             [
              0.6666666666666666,
              "#ed7953"
             ],
             [
              0.7777777777777778,
              "#fb9f3a"
             ],
             [
              0.8888888888888888,
              "#fdca26"
             ],
             [
              1,
              "#f0f921"
             ]
            ],
            "type": "heatmapgl"
           }
          ],
          "histogram": [
           {
            "marker": {
             "pattern": {
              "fillmode": "overlay",
              "size": 10,
              "solidity": 0.2
             }
            },
            "type": "histogram"
           }
          ],
          "histogram2d": [
           {
            "colorbar": {
             "outlinewidth": 0,
             "ticks": ""
            },
            "colorscale": [
             [
              0,
              "#0d0887"
             ],
             [
              0.1111111111111111,
              "#46039f"
             ],
             [
              0.2222222222222222,
              "#7201a8"
             ],
             [
              0.3333333333333333,
              "#9c179e"
             ],
             [
              0.4444444444444444,
              "#bd3786"
             ],
             [
              0.5555555555555556,
              "#d8576b"
             ],
             [
              0.6666666666666666,
              "#ed7953"
             ],
             [
              0.7777777777777778,
              "#fb9f3a"
             ],
             [
              0.8888888888888888,
              "#fdca26"
             ],
             [
              1,
              "#f0f921"
             ]
            ],
            "type": "histogram2d"
           }
          ],
          "histogram2dcontour": [
           {
            "colorbar": {
             "outlinewidth": 0,
             "ticks": ""
            },
            "colorscale": [
             [
              0,
              "#0d0887"
             ],
             [
              0.1111111111111111,
              "#46039f"
             ],
             [
              0.2222222222222222,
              "#7201a8"
             ],
             [
              0.3333333333333333,
              "#9c179e"
             ],
             [
              0.4444444444444444,
              "#bd3786"
             ],
             [
              0.5555555555555556,
              "#d8576b"
             ],
             [
              0.6666666666666666,
              "#ed7953"
             ],
             [
              0.7777777777777778,
              "#fb9f3a"
             ],
             [
              0.8888888888888888,
              "#fdca26"
             ],
             [
              1,
              "#f0f921"
             ]
            ],
            "type": "histogram2dcontour"
           }
          ],
          "mesh3d": [
           {
            "colorbar": {
             "outlinewidth": 0,
             "ticks": ""
            },
            "type": "mesh3d"
           }
          ],
          "parcoords": [
           {
            "line": {
             "colorbar": {
              "outlinewidth": 0,
              "ticks": ""
             }
            },
            "type": "parcoords"
           }
          ],
          "pie": [
           {
            "automargin": true,
            "type": "pie"
           }
          ],
          "scatter": [
           {
            "fillpattern": {
             "fillmode": "overlay",
             "size": 10,
             "solidity": 0.2
            },
            "type": "scatter"
           }
          ],
          "scatter3d": [
           {
            "line": {
             "colorbar": {
              "outlinewidth": 0,
              "ticks": ""
             }
            },
            "marker": {
             "colorbar": {
              "outlinewidth": 0,
              "ticks": ""
             }
            },
            "type": "scatter3d"
           }
          ],
          "scattercarpet": [
           {
            "marker": {
             "colorbar": {
              "outlinewidth": 0,
              "ticks": ""
             }
            },
            "type": "scattercarpet"
           }
          ],
          "scattergeo": [
           {
            "marker": {
             "colorbar": {
              "outlinewidth": 0,
              "ticks": ""
             }
            },
            "type": "scattergeo"
           }
          ],
          "scattergl": [
           {
            "marker": {
             "colorbar": {
              "outlinewidth": 0,
              "ticks": ""
             }
            },
            "type": "scattergl"
           }
          ],
          "scattermapbox": [
           {
            "marker": {
             "colorbar": {
              "outlinewidth": 0,
              "ticks": ""
             }
            },
            "type": "scattermapbox"
           }
          ],
          "scatterpolar": [
           {
            "marker": {
             "colorbar": {
              "outlinewidth": 0,
              "ticks": ""
             }
            },
            "type": "scatterpolar"
           }
          ],
          "scatterpolargl": [
           {
            "marker": {
             "colorbar": {
              "outlinewidth": 0,
              "ticks": ""
             }
            },
            "type": "scatterpolargl"
           }
          ],
          "scatterternary": [
           {
            "marker": {
             "colorbar": {
              "outlinewidth": 0,
              "ticks": ""
             }
            },
            "type": "scatterternary"
           }
          ],
          "surface": [
           {
            "colorbar": {
             "outlinewidth": 0,
             "ticks": ""
            },
            "colorscale": [
             [
              0,
              "#0d0887"
             ],
             [
              0.1111111111111111,
              "#46039f"
             ],
             [
              0.2222222222222222,
              "#7201a8"
             ],
             [
              0.3333333333333333,
              "#9c179e"
             ],
             [
              0.4444444444444444,
              "#bd3786"
             ],
             [
              0.5555555555555556,
              "#d8576b"
             ],
             [
              0.6666666666666666,
              "#ed7953"
             ],
             [
              0.7777777777777778,
              "#fb9f3a"
             ],
             [
              0.8888888888888888,
              "#fdca26"
             ],
             [
              1,
              "#f0f921"
             ]
            ],
            "type": "surface"
           }
          ],
          "table": [
           {
            "cells": {
             "fill": {
              "color": "#EBF0F8"
             },
             "line": {
              "color": "white"
             }
            },
            "header": {
             "fill": {
              "color": "#C8D4E3"
             },
             "line": {
              "color": "white"
             }
            },
            "type": "table"
           }
          ]
         },
         "layout": {
          "annotationdefaults": {
           "arrowcolor": "#2a3f5f",
           "arrowhead": 0,
           "arrowwidth": 1
          },
          "autotypenumbers": "strict",
          "coloraxis": {
           "colorbar": {
            "outlinewidth": 0,
            "ticks": ""
           }
          },
          "colorscale": {
           "diverging": [
            [
             0,
             "#8e0152"
            ],
            [
             0.1,
             "#c51b7d"
            ],
            [
             0.2,
             "#de77ae"
            ],
            [
             0.3,
             "#f1b6da"
            ],
            [
             0.4,
             "#fde0ef"
            ],
            [
             0.5,
             "#f7f7f7"
            ],
            [
             0.6,
             "#e6f5d0"
            ],
            [
             0.7,
             "#b8e186"
            ],
            [
             0.8,
             "#7fbc41"
            ],
            [
             0.9,
             "#4d9221"
            ],
            [
             1,
             "#276419"
            ]
           ],
           "sequential": [
            [
             0,
             "#0d0887"
            ],
            [
             0.1111111111111111,
             "#46039f"
            ],
            [
             0.2222222222222222,
             "#7201a8"
            ],
            [
             0.3333333333333333,
             "#9c179e"
            ],
            [
             0.4444444444444444,
             "#bd3786"
            ],
            [
             0.5555555555555556,
             "#d8576b"
            ],
            [
             0.6666666666666666,
             "#ed7953"
            ],
            [
             0.7777777777777778,
             "#fb9f3a"
            ],
            [
             0.8888888888888888,
             "#fdca26"
            ],
            [
             1,
             "#f0f921"
            ]
           ],
           "sequentialminus": [
            [
             0,
             "#0d0887"
            ],
            [
             0.1111111111111111,
             "#46039f"
            ],
            [
             0.2222222222222222,
             "#7201a8"
            ],
            [
             0.3333333333333333,
             "#9c179e"
            ],
            [
             0.4444444444444444,
             "#bd3786"
            ],
            [
             0.5555555555555556,
             "#d8576b"
            ],
            [
             0.6666666666666666,
             "#ed7953"
            ],
            [
             0.7777777777777778,
             "#fb9f3a"
            ],
            [
             0.8888888888888888,
             "#fdca26"
            ],
            [
             1,
             "#f0f921"
            ]
           ]
          },
          "colorway": [
           "#636efa",
           "#EF553B",
           "#00cc96",
           "#ab63fa",
           "#FFA15A",
           "#19d3f3",
           "#FF6692",
           "#B6E880",
           "#FF97FF",
           "#FECB52"
          ],
          "font": {
           "color": "#2a3f5f"
          },
          "geo": {
           "bgcolor": "white",
           "lakecolor": "white",
           "landcolor": "white",
           "showlakes": true,
           "showland": true,
           "subunitcolor": "#C8D4E3"
          },
          "hoverlabel": {
           "align": "left"
          },
          "hovermode": "closest",
          "mapbox": {
           "style": "light"
          },
          "paper_bgcolor": "white",
          "plot_bgcolor": "white",
          "polar": {
           "angularaxis": {
            "gridcolor": "#EBF0F8",
            "linecolor": "#EBF0F8",
            "ticks": ""
           },
           "bgcolor": "white",
           "radialaxis": {
            "gridcolor": "#EBF0F8",
            "linecolor": "#EBF0F8",
            "ticks": ""
           }
          },
          "scene": {
           "xaxis": {
            "backgroundcolor": "white",
            "gridcolor": "#DFE8F3",
            "gridwidth": 2,
            "linecolor": "#EBF0F8",
            "showbackground": true,
            "ticks": "",
            "zerolinecolor": "#EBF0F8"
           },
           "yaxis": {
            "backgroundcolor": "white",
            "gridcolor": "#DFE8F3",
            "gridwidth": 2,
            "linecolor": "#EBF0F8",
            "showbackground": true,
            "ticks": "",
            "zerolinecolor": "#EBF0F8"
           },
           "zaxis": {
            "backgroundcolor": "white",
            "gridcolor": "#DFE8F3",
            "gridwidth": 2,
            "linecolor": "#EBF0F8",
            "showbackground": true,
            "ticks": "",
            "zerolinecolor": "#EBF0F8"
           }
          },
          "shapedefaults": {
           "line": {
            "color": "#2a3f5f"
           }
          },
          "ternary": {
           "aaxis": {
            "gridcolor": "#DFE8F3",
            "linecolor": "#A2B1C6",
            "ticks": ""
           },
           "baxis": {
            "gridcolor": "#DFE8F3",
            "linecolor": "#A2B1C6",
            "ticks": ""
           },
           "bgcolor": "white",
           "caxis": {
            "gridcolor": "#DFE8F3",
            "linecolor": "#A2B1C6",
            "ticks": ""
           }
          },
          "title": {
           "x": 0.05
          },
          "xaxis": {
           "automargin": true,
           "gridcolor": "#EBF0F8",
           "linecolor": "#EBF0F8",
           "ticks": "",
           "title": {
            "standoff": 15
           },
           "zerolinecolor": "#EBF0F8",
           "zerolinewidth": 2
          },
          "yaxis": {
           "automargin": true,
           "gridcolor": "#EBF0F8",
           "linecolor": "#EBF0F8",
           "ticks": "",
           "title": {
            "standoff": 15
           },
           "zerolinecolor": "#EBF0F8",
           "zerolinewidth": 2
          }
         }
        },
        "width": 1000,
        "xaxis": {
         "tickangle": 45,
         "tickfont": {
          "size": 10
         }
        },
        "yaxis": {
         "side": "left",
         "title": {
          "text": "Wordcount"
         }
        },
        "yaxis2": {
         "overlaying": "y",
         "side": "right",
         "title": {
          "text": "Politbarometer (%)"
         }
        }
       }
      }
     },
     "metadata": {},
     "output_type": "display_data"
    }
   ],
   "source": [
    "# Beispiel-Ereignisse\n",
    "events = [\n",
    "    {\"date\": \"2021-09\", \"label\": \"Bundestagswahlen\"},\n",
    "    {\"date\": \"2022-02\", \"label\": \"Russland-Ukraine Krieg\"},\n",
    "    {\"date\": \"2023-04\", \"label\": \"Heizungsstreit\"},\n",
    "    {\"date\": \"2023-09\", \"label\": \"Migrationsgipfel\"},\n",
    "]\n",
    "\n",
    "# Daten vorbereiten\n",
    "df_grouped_wordcount = wordcount_df.groupby([\"month\", \"word\"])[\"count\"].sum().reset_index()\n",
    "df_grouped_parties = wahlen_df.groupby(\"month\").first().reset_index()\n",
    "\n",
    "# Farben für die Parteien\n",
    "parteifarben = {\n",
    "    \"afd\": \"blue\",\n",
    "    \"cdu\": \"black\",\n",
    "    \"grünen\": \"green\",\n",
    "    \"spd\": \"red\",\n",
    "}\n",
    "\n",
    "# Interaktive Figur erstellen\n",
    "fig = go.Figure()\n",
    "\n",
    "# Ereignisse zuerst hinzufügen\n",
    "for event in events:\n",
    "    fig.add_trace(\n",
    "        go.Scatter(\n",
    "            x=[event[\"date\"], event[\"date\"]],\n",
    "            y=[0, 3000],  # Passe die Y-Achse an deine Daten an\n",
    "            mode=\"lines\",\n",
    "            name=event[\"label\"],\n",
    "            line=dict(color=\"grey\", dash=\"dot\"),\n",
    "            hoverinfo=\"x+name\",\n",
    "        )\n",
    "    )\n",
    "\n",
    "# Wordcount-Daten hinzufügen\n",
    "for word in [\"afd\", \"cdu\", \"grünen\", \"spd\"]:\n",
    "    word_data = df_grouped_wordcount[df_grouped_wordcount[\"word\"] == word]\n",
    "    fig.add_trace(\n",
    "        go.Scatter(\n",
    "            x=word_data[\"month\"],\n",
    "            y=word_data[\"count\"],\n",
    "            mode=\"lines\",\n",
    "            name=f\"Wordcount: {word.upper()}\",\n",
    "            line=dict(color=parteifarben.get(word, \"gray\")),\n",
    "            yaxis=\"y1\",\n",
    "        )\n",
    "    )\n",
    "\n",
    "# Politbarometer-Daten hinzufügen\n",
    "for column in [\"afd\", \"cdu\", \"grünen\", \"spd\"]:\n",
    "    fig.add_trace(\n",
    "        go.Scatter(\n",
    "            x=df_grouped_parties[\"month\"],\n",
    "            y=df_grouped_parties[column],\n",
    "            mode=\"lines\",\n",
    "            name=f\"Politbarometer: {column.upper()}\",\n",
    "            line=dict(color=parteifarben.get(column, \"gray\"), dash=\"dash\"),\n",
    "            yaxis=\"y2\",\n",
    "        )\n",
    "    )\n",
    "\n",
    "# Layout der Grafik\n",
    "fig.update_layout(\n",
    "    xaxis=dict(tickangle=45, tickfont=dict(size=10)),\n",
    "    yaxis=dict(title=\"Wordcount\", side=\"left\"),\n",
    "    yaxis2=dict(title=\"Politbarometer (%)\", side=\"right\", overlaying=\"y\"),\n",
    "    legend=dict(\n",
    "        title=\"Legende\",\n",
    "        orientation=\"h\",  # Horizontale Ausrichtung\n",
    "        y=1.20,  # Position oberhalb der Grafik\n",
    "        x=0.5,\n",
    "        xanchor=\"center\",\n",
    "        font=dict(size=10),  # Schriftgröße der Legende\n",
    "    ),\n",
    "    template=\"plotly_white\",\n",
    "    height=600,\n",
    "    width=1000,\n",
    ")\n",
    "\n",
    "# Grafik anzeigen\n",
    "fig.show()\n",
    "\n",
    "# Optional: Grafik als HTML speichern\n",
    "#fig.write_html(\"interaktive_visualisierung.html\")"
   ]
  },
  {
   "cell_type": "code",
   "execution_count": 36,
   "id": "99a762f3",
   "metadata": {},
   "outputs": [
    {
     "data": {
      "application/vnd.plotly.v1+json": {
       "config": {
        "plotlyServerURL": "https://plot.ly"
       },
       "data": [
        {
         "hoverinfo": "x+y+name",
         "line": {
          "color": "blue"
         },
         "mode": "lines",
         "name": "Wordcount: AFD",
         "type": "scatter",
         "x": [
          "2021-04",
          "2021-05",
          "2021-06",
          "2021-07",
          "2021-08",
          "2021-09",
          "2021-10",
          "2021-11",
          "2021-12",
          "2022-01",
          "2022-02",
          "2022-03",
          "2022-04",
          "2022-05",
          "2022-06",
          "2022-07",
          "2022-08",
          "2022-09",
          "2022-10",
          "2022-11",
          "2022-12",
          "2023-01",
          "2023-02",
          "2023-03",
          "2023-04",
          "2023-05",
          "2023-06",
          "2023-07",
          "2023-08",
          "2023-09",
          "2023-10",
          "2023-11",
          "2023-12",
          "2024-01",
          "2024-02",
          "2024-03",
          "2024-04",
          "2024-05",
          "2024-06",
          "2024-07",
          "2024-08",
          "2024-09",
          "2024-10",
          "2024-11"
         ],
         "y": [
          363,
          375,
          720,
          312,
          348,
          717,
          427,
          200,
          405,
          433,
          252,
          295,
          188,
          254,
          557,
          189,
          126,
          227,
          391,
          117,
          454,
          129,
          399,
          246,
          211,
          347,
          1492,
          1798,
          1411,
          1457,
          1219,
          349,
          693,
          3245,
          2035,
          1318,
          1532,
          2077,
          2077,
          1085,
          1520,
          3078,
          1269,
          791
         ],
         "yaxis": "y"
        },
        {
         "hoverinfo": "x+y+name",
         "line": {
          "color": "black"
         },
         "mode": "lines",
         "name": "Wordcount: CDU",
         "type": "scatter",
         "x": [
          "2021-04",
          "2021-05",
          "2021-06",
          "2021-07",
          "2021-08",
          "2021-09",
          "2021-10",
          "2021-11",
          "2021-12",
          "2022-01",
          "2022-02",
          "2022-03",
          "2022-04",
          "2022-05",
          "2022-06",
          "2022-07",
          "2022-08",
          "2022-09",
          "2022-10",
          "2022-11",
          "2022-12",
          "2023-01",
          "2023-02",
          "2023-03",
          "2023-04",
          "2023-05",
          "2023-06",
          "2023-07",
          "2023-08",
          "2023-09",
          "2023-10",
          "2023-11",
          "2023-12",
          "2024-01",
          "2024-02",
          "2024-03",
          "2024-04",
          "2024-05",
          "2024-06",
          "2024-07",
          "2024-08",
          "2024-09",
          "2024-10",
          "2024-11"
         ],
         "y": [
          1513,
          806,
          986,
          674,
          869,
          1376,
          1801,
          1020,
          734,
          945,
          355,
          315,
          444,
          959,
          513,
          318,
          269,
          636,
          447,
          374,
          295,
          580,
          856,
          759,
          640,
          440,
          747,
          1078,
          504,
          1026,
          726,
          517,
          662,
          748,
          594,
          652,
          637,
          1270,
          724,
          591,
          795,
          1399,
          740,
          841
         ],
         "yaxis": "y"
        },
        {
         "hoverinfo": "x+y+name",
         "line": {
          "color": "green"
         },
         "mode": "lines",
         "name": "Wordcount: GRÜNEN",
         "type": "scatter",
         "x": [
          "2021-04",
          "2021-05",
          "2021-06",
          "2021-07",
          "2021-08",
          "2021-09",
          "2021-10",
          "2021-11",
          "2021-12",
          "2022-01",
          "2022-02",
          "2022-03",
          "2022-04",
          "2022-05",
          "2022-06",
          "2022-07",
          "2022-08",
          "2022-09",
          "2022-10",
          "2022-11",
          "2022-12",
          "2023-01",
          "2023-02",
          "2023-03",
          "2023-04",
          "2023-05",
          "2023-06",
          "2023-07",
          "2023-08",
          "2023-09",
          "2023-10",
          "2023-11",
          "2023-12",
          "2024-01",
          "2024-02",
          "2024-03",
          "2024-04",
          "2024-05",
          "2024-06",
          "2024-07",
          "2024-08",
          "2024-09",
          "2024-10",
          "2024-11"
         ],
         "y": [
          907,
          996,
          1186,
          901,
          837,
          1211,
          1190,
          755,
          548,
          668,
          410,
          267,
          404,
          677,
          477,
          358,
          403,
          457,
          654,
          347,
          407,
          609,
          563,
          631,
          563,
          842,
          775,
          398,
          410,
          384,
          481,
          640,
          458,
          393,
          599,
          458,
          426,
          482,
          647,
          546,
          502,
          1016,
          704,
          808
         ],
         "yaxis": "y"
        },
        {
         "hoverinfo": "x+y+name",
         "line": {
          "color": "red"
         },
         "mode": "lines",
         "name": "Wordcount: SPD",
         "type": "scatter",
         "x": [
          "2021-04",
          "2021-05",
          "2021-06",
          "2021-07",
          "2021-08",
          "2021-09",
          "2021-10",
          "2021-11",
          "2021-12",
          "2022-01",
          "2022-02",
          "2022-03",
          "2022-04",
          "2022-05",
          "2022-06",
          "2022-07",
          "2022-08",
          "2022-09",
          "2022-10",
          "2022-11",
          "2022-12",
          "2023-01",
          "2023-02",
          "2023-03",
          "2023-04",
          "2023-05",
          "2023-06",
          "2023-07",
          "2023-08",
          "2023-09",
          "2023-10",
          "2023-11",
          "2023-12",
          "2024-01",
          "2024-02",
          "2024-03",
          "2024-04",
          "2024-05",
          "2024-06",
          "2024-07",
          "2024-08",
          "2024-09",
          "2024-10",
          "2024-11"
         ],
         "y": [
          475,
          640,
          569,
          510,
          1030,
          2160,
          1660,
          860,
          997,
          527,
          501,
          558,
          763,
          954,
          577,
          492,
          719,
          534,
          612,
          530,
          400,
          590,
          713,
          906,
          835,
          648,
          445,
          469,
          529,
          538,
          627,
          593,
          789,
          647,
          485,
          729,
          725,
          1040,
          845,
          512,
          670,
          1280,
          1176,
          1990
         ],
         "yaxis": "y"
        },
        {
         "hoverinfo": "x+y+name",
         "line": {
          "color": "blue",
          "dash": "dash"
         },
         "mode": "lines",
         "name": "Politbarometer: AFD",
         "type": "scatter",
         "x": [
          "2021-04",
          "2021-05",
          "2021-06",
          "2021-07",
          "2021-08",
          "2021-09",
          "2021-10",
          "2021-11",
          "2021-12",
          "2022-01",
          "2022-02",
          "2022-03",
          "2022-04",
          "2022-05",
          "2022-06",
          "2022-07",
          "2022-08",
          "2022-09",
          "2022-10",
          "2022-11",
          "2022-12",
          "2023-01",
          "2023-02",
          "2023-03",
          "2023-04",
          "2023-05",
          "2023-06",
          "2023-07",
          "2023-08",
          "2023-09",
          "2023-10",
          "2023-11",
          "2023-12",
          "2024-01",
          "2024-02",
          "2024-03",
          "2024-04",
          "2024-05",
          "2024-06",
          "2024-07",
          "2024-08",
          "2024-09",
          "2024-10",
          "2024-11"
         ],
         "y": [
          11,
          11,
          11,
          10,
          11,
          11,
          10,
          11,
          10,
          10,
          11,
          10,
          11,
          10,
          10,
          10,
          12,
          13,
          15,
          15,
          15,
          14,
          14,
          15,
          15,
          15,
          18,
          20,
          20,
          21,
          21,
          21,
          22,
          22,
          19,
          18,
          18,
          16,
          16,
          17,
          16,
          17,
          18,
          18
         ],
         "yaxis": "y2"
        },
        {
         "hoverinfo": "x+y+name",
         "line": {
          "color": "black",
          "dash": "dash"
         },
         "mode": "lines",
         "name": "Politbarometer: CDU",
         "type": "scatter",
         "x": [
          "2021-04",
          "2021-05",
          "2021-06",
          "2021-07",
          "2021-08",
          "2021-09",
          "2021-10",
          "2021-11",
          "2021-12",
          "2022-01",
          "2022-02",
          "2022-03",
          "2022-04",
          "2022-05",
          "2022-06",
          "2022-07",
          "2022-08",
          "2022-09",
          "2022-10",
          "2022-11",
          "2022-12",
          "2023-01",
          "2023-02",
          "2023-03",
          "2023-04",
          "2023-05",
          "2023-06",
          "2023-07",
          "2023-08",
          "2023-09",
          "2023-10",
          "2023-11",
          "2023-12",
          "2024-01",
          "2024-02",
          "2024-03",
          "2024-04",
          "2024-05",
          "2024-06",
          "2024-07",
          "2024-08",
          "2024-09",
          "2024-10",
          "2024-11"
         ],
         "y": [
          31,
          25,
          28,
          30,
          26,
          22,
          20,
          20,
          21,
          22,
          25,
          24,
          24,
          26,
          26,
          27,
          26,
          28,
          28,
          28,
          28,
          27,
          30,
          29,
          31,
          30,
          28,
          27,
          26,
          26,
          30,
          30,
          32,
          31,
          31,
          30,
          31,
          31,
          30,
          32,
          32,
          33,
          31,
          33
         ],
         "yaxis": "y2"
        },
        {
         "hoverinfo": "x+y+name",
         "line": {
          "color": "green",
          "dash": "dash"
         },
         "mode": "lines",
         "name": "Politbarometer: GRÜNEN",
         "type": "scatter",
         "x": [
          "2021-04",
          "2021-05",
          "2021-06",
          "2021-07",
          "2021-08",
          "2021-09",
          "2021-10",
          "2021-11",
          "2021-12",
          "2022-01",
          "2022-02",
          "2022-03",
          "2022-04",
          "2022-05",
          "2022-06",
          "2022-07",
          "2022-08",
          "2022-09",
          "2022-10",
          "2022-11",
          "2022-12",
          "2023-01",
          "2023-02",
          "2023-03",
          "2023-04",
          "2023-05",
          "2023-06",
          "2023-07",
          "2023-08",
          "2023-09",
          "2023-10",
          "2023-11",
          "2023-12",
          "2024-01",
          "2024-02",
          "2024-03",
          "2024-04",
          "2024-05",
          "2024-06",
          "2024-07",
          "2024-08",
          "2024-09",
          "2024-10",
          "2024-11"
         ],
         "y": [
          21,
          26,
          22,
          20,
          19,
          17,
          16,
          16,
          17,
          16,
          16,
          18,
          19,
          24,
          25,
          25,
          26,
          23,
          21,
          22,
          20,
          21,
          19,
          18,
          18,
          17,
          16,
          16,
          15,
          16,
          14,
          15,
          14,
          14,
          13,
          15,
          12,
          13,
          14,
          13,
          13,
          11,
          11,
          12
         ],
         "yaxis": "y2"
        },
        {
         "hoverinfo": "x+y+name",
         "line": {
          "color": "red",
          "dash": "dash"
         },
         "mode": "lines",
         "name": "Politbarometer: SPD",
         "type": "scatter",
         "x": [
          "2021-04",
          "2021-05",
          "2021-06",
          "2021-07",
          "2021-08",
          "2021-09",
          "2021-10",
          "2021-11",
          "2021-12",
          "2022-01",
          "2022-02",
          "2022-03",
          "2022-04",
          "2022-05",
          "2022-06",
          "2022-07",
          "2022-08",
          "2022-09",
          "2022-10",
          "2022-11",
          "2022-12",
          "2023-01",
          "2023-02",
          "2023-03",
          "2023-04",
          "2023-05",
          "2023-06",
          "2023-07",
          "2023-08",
          "2023-09",
          "2023-10",
          "2023-11",
          "2023-12",
          "2024-01",
          "2024-02",
          "2024-03",
          "2024-04",
          "2024-05",
          "2024-06",
          "2024-07",
          "2024-08",
          "2024-09",
          "2024-10",
          "2024-11"
         ],
         "y": [
          14,
          14,
          15,
          15,
          19,
          25,
          28,
          28,
          28,
          27,
          25,
          27,
          27,
          22,
          22,
          21,
          19,
          19,
          19,
          19,
          20,
          20,
          20,
          21,
          18,
          19,
          19,
          17,
          19,
          17,
          15,
          16,
          14,
          13,
          15,
          15,
          16,
          15,
          14,
          14,
          14,
          15,
          16,
          16
         ],
         "yaxis": "y2"
        }
       ],
       "layout": {
        "height": 600,
        "legend": {
         "orientation": "h",
         "title": {
          "text": "Legende"
         },
         "x": 1,
         "xanchor": "right",
         "y": 1.1,
         "yanchor": "bottom"
        },
        "template": {
         "data": {
          "bar": [
           {
            "error_x": {
             "color": "#2a3f5f"
            },
            "error_y": {
             "color": "#2a3f5f"
            },
            "marker": {
             "line": {
              "color": "white",
              "width": 0.5
             },
             "pattern": {
              "fillmode": "overlay",
              "size": 10,
              "solidity": 0.2
             }
            },
            "type": "bar"
           }
          ],
          "barpolar": [
           {
            "marker": {
             "line": {
              "color": "white",
              "width": 0.5
             },
             "pattern": {
              "fillmode": "overlay",
              "size": 10,
              "solidity": 0.2
             }
            },
            "type": "barpolar"
           }
          ],
          "carpet": [
           {
            "aaxis": {
             "endlinecolor": "#2a3f5f",
             "gridcolor": "#C8D4E3",
             "linecolor": "#C8D4E3",
             "minorgridcolor": "#C8D4E3",
             "startlinecolor": "#2a3f5f"
            },
            "baxis": {
             "endlinecolor": "#2a3f5f",
             "gridcolor": "#C8D4E3",
             "linecolor": "#C8D4E3",
             "minorgridcolor": "#C8D4E3",
             "startlinecolor": "#2a3f5f"
            },
            "type": "carpet"
           }
          ],
          "choropleth": [
           {
            "colorbar": {
             "outlinewidth": 0,
             "ticks": ""
            },
            "type": "choropleth"
           }
          ],
          "contour": [
           {
            "colorbar": {
             "outlinewidth": 0,
             "ticks": ""
            },
            "colorscale": [
             [
              0,
              "#0d0887"
             ],
             [
              0.1111111111111111,
              "#46039f"
             ],
             [
              0.2222222222222222,
              "#7201a8"
             ],
             [
              0.3333333333333333,
              "#9c179e"
             ],
             [
              0.4444444444444444,
              "#bd3786"
             ],
             [
              0.5555555555555556,
              "#d8576b"
             ],
             [
              0.6666666666666666,
              "#ed7953"
             ],
             [
              0.7777777777777778,
              "#fb9f3a"
             ],
             [
              0.8888888888888888,
              "#fdca26"
             ],
             [
              1,
              "#f0f921"
             ]
            ],
            "type": "contour"
           }
          ],
          "contourcarpet": [
           {
            "colorbar": {
             "outlinewidth": 0,
             "ticks": ""
            },
            "type": "contourcarpet"
           }
          ],
          "heatmap": [
           {
            "colorbar": {
             "outlinewidth": 0,
             "ticks": ""
            },
            "colorscale": [
             [
              0,
              "#0d0887"
             ],
             [
              0.1111111111111111,
              "#46039f"
             ],
             [
              0.2222222222222222,
              "#7201a8"
             ],
             [
              0.3333333333333333,
              "#9c179e"
             ],
             [
              0.4444444444444444,
              "#bd3786"
             ],
             [
              0.5555555555555556,
              "#d8576b"
             ],
             [
              0.6666666666666666,
              "#ed7953"
             ],
             [
              0.7777777777777778,
              "#fb9f3a"
             ],
             [
              0.8888888888888888,
              "#fdca26"
             ],
             [
              1,
              "#f0f921"
             ]
            ],
            "type": "heatmap"
           }
          ],
          "heatmapgl": [
           {
            "colorbar": {
             "outlinewidth": 0,
             "ticks": ""
            },
            "colorscale": [
             [
              0,
              "#0d0887"
             ],
             [
              0.1111111111111111,
              "#46039f"
             ],
             [
              0.2222222222222222,
              "#7201a8"
             ],
             [
              0.3333333333333333,
              "#9c179e"
             ],
             [
              0.4444444444444444,
              "#bd3786"
             ],
             [
              0.5555555555555556,
              "#d8576b"
             ],
             [
              0.6666666666666666,
              "#ed7953"
             ],
             [
              0.7777777777777778,
              "#fb9f3a"
             ],
             [
              0.8888888888888888,
              "#fdca26"
             ],
             [
              1,
              "#f0f921"
             ]
            ],
            "type": "heatmapgl"
           }
          ],
          "histogram": [
           {
            "marker": {
             "pattern": {
              "fillmode": "overlay",
              "size": 10,
              "solidity": 0.2
             }
            },
            "type": "histogram"
           }
          ],
          "histogram2d": [
           {
            "colorbar": {
             "outlinewidth": 0,
             "ticks": ""
            },
            "colorscale": [
             [
              0,
              "#0d0887"
             ],
             [
              0.1111111111111111,
              "#46039f"
             ],
             [
              0.2222222222222222,
              "#7201a8"
             ],
             [
              0.3333333333333333,
              "#9c179e"
             ],
             [
              0.4444444444444444,
              "#bd3786"
             ],
             [
              0.5555555555555556,
              "#d8576b"
             ],
             [
              0.6666666666666666,
              "#ed7953"
             ],
             [
              0.7777777777777778,
              "#fb9f3a"
             ],
             [
              0.8888888888888888,
              "#fdca26"
             ],
             [
              1,
              "#f0f921"
             ]
            ],
            "type": "histogram2d"
           }
          ],
          "histogram2dcontour": [
           {
            "colorbar": {
             "outlinewidth": 0,
             "ticks": ""
            },
            "colorscale": [
             [
              0,
              "#0d0887"
             ],
             [
              0.1111111111111111,
              "#46039f"
             ],
             [
              0.2222222222222222,
              "#7201a8"
             ],
             [
              0.3333333333333333,
              "#9c179e"
             ],
             [
              0.4444444444444444,
              "#bd3786"
             ],
             [
              0.5555555555555556,
              "#d8576b"
             ],
             [
              0.6666666666666666,
              "#ed7953"
             ],
             [
              0.7777777777777778,
              "#fb9f3a"
             ],
             [
              0.8888888888888888,
              "#fdca26"
             ],
             [
              1,
              "#f0f921"
             ]
            ],
            "type": "histogram2dcontour"
           }
          ],
          "mesh3d": [
           {
            "colorbar": {
             "outlinewidth": 0,
             "ticks": ""
            },
            "type": "mesh3d"
           }
          ],
          "parcoords": [
           {
            "line": {
             "colorbar": {
              "outlinewidth": 0,
              "ticks": ""
             }
            },
            "type": "parcoords"
           }
          ],
          "pie": [
           {
            "automargin": true,
            "type": "pie"
           }
          ],
          "scatter": [
           {
            "fillpattern": {
             "fillmode": "overlay",
             "size": 10,
             "solidity": 0.2
            },
            "type": "scatter"
           }
          ],
          "scatter3d": [
           {
            "line": {
             "colorbar": {
              "outlinewidth": 0,
              "ticks": ""
             }
            },
            "marker": {
             "colorbar": {
              "outlinewidth": 0,
              "ticks": ""
             }
            },
            "type": "scatter3d"
           }
          ],
          "scattercarpet": [
           {
            "marker": {
             "colorbar": {
              "outlinewidth": 0,
              "ticks": ""
             }
            },
            "type": "scattercarpet"
           }
          ],
          "scattergeo": [
           {
            "marker": {
             "colorbar": {
              "outlinewidth": 0,
              "ticks": ""
             }
            },
            "type": "scattergeo"
           }
          ],
          "scattergl": [
           {
            "marker": {
             "colorbar": {
              "outlinewidth": 0,
              "ticks": ""
             }
            },
            "type": "scattergl"
           }
          ],
          "scattermapbox": [
           {
            "marker": {
             "colorbar": {
              "outlinewidth": 0,
              "ticks": ""
             }
            },
            "type": "scattermapbox"
           }
          ],
          "scatterpolar": [
           {
            "marker": {
             "colorbar": {
              "outlinewidth": 0,
              "ticks": ""
             }
            },
            "type": "scatterpolar"
           }
          ],
          "scatterpolargl": [
           {
            "marker": {
             "colorbar": {
              "outlinewidth": 0,
              "ticks": ""
             }
            },
            "type": "scatterpolargl"
           }
          ],
          "scatterternary": [
           {
            "marker": {
             "colorbar": {
              "outlinewidth": 0,
              "ticks": ""
             }
            },
            "type": "scatterternary"
           }
          ],
          "surface": [
           {
            "colorbar": {
             "outlinewidth": 0,
             "ticks": ""
            },
            "colorscale": [
             [
              0,
              "#0d0887"
             ],
             [
              0.1111111111111111,
              "#46039f"
             ],
             [
              0.2222222222222222,
              "#7201a8"
             ],
             [
              0.3333333333333333,
              "#9c179e"
             ],
             [
              0.4444444444444444,
              "#bd3786"
             ],
             [
              0.5555555555555556,
              "#d8576b"
             ],
             [
              0.6666666666666666,
              "#ed7953"
             ],
             [
              0.7777777777777778,
              "#fb9f3a"
             ],
             [
              0.8888888888888888,
              "#fdca26"
             ],
             [
              1,
              "#f0f921"
             ]
            ],
            "type": "surface"
           }
          ],
          "table": [
           {
            "cells": {
             "fill": {
              "color": "#EBF0F8"
             },
             "line": {
              "color": "white"
             }
            },
            "header": {
             "fill": {
              "color": "#C8D4E3"
             },
             "line": {
              "color": "white"
             }
            },
            "type": "table"
           }
          ]
         },
         "layout": {
          "annotationdefaults": {
           "arrowcolor": "#2a3f5f",
           "arrowhead": 0,
           "arrowwidth": 1
          },
          "autotypenumbers": "strict",
          "coloraxis": {
           "colorbar": {
            "outlinewidth": 0,
            "ticks": ""
           }
          },
          "colorscale": {
           "diverging": [
            [
             0,
             "#8e0152"
            ],
            [
             0.1,
             "#c51b7d"
            ],
            [
             0.2,
             "#de77ae"
            ],
            [
             0.3,
             "#f1b6da"
            ],
            [
             0.4,
             "#fde0ef"
            ],
            [
             0.5,
             "#f7f7f7"
            ],
            [
             0.6,
             "#e6f5d0"
            ],
            [
             0.7,
             "#b8e186"
            ],
            [
             0.8,
             "#7fbc41"
            ],
            [
             0.9,
             "#4d9221"
            ],
            [
             1,
             "#276419"
            ]
           ],
           "sequential": [
            [
             0,
             "#0d0887"
            ],
            [
             0.1111111111111111,
             "#46039f"
            ],
            [
             0.2222222222222222,
             "#7201a8"
            ],
            [
             0.3333333333333333,
             "#9c179e"
            ],
            [
             0.4444444444444444,
             "#bd3786"
            ],
            [
             0.5555555555555556,
             "#d8576b"
            ],
            [
             0.6666666666666666,
             "#ed7953"
            ],
            [
             0.7777777777777778,
             "#fb9f3a"
            ],
            [
             0.8888888888888888,
             "#fdca26"
            ],
            [
             1,
             "#f0f921"
            ]
           ],
           "sequentialminus": [
            [
             0,
             "#0d0887"
            ],
            [
             0.1111111111111111,
             "#46039f"
            ],
            [
             0.2222222222222222,
             "#7201a8"
            ],
            [
             0.3333333333333333,
             "#9c179e"
            ],
            [
             0.4444444444444444,
             "#bd3786"
            ],
            [
             0.5555555555555556,
             "#d8576b"
            ],
            [
             0.6666666666666666,
             "#ed7953"
            ],
            [
             0.7777777777777778,
             "#fb9f3a"
            ],
            [
             0.8888888888888888,
             "#fdca26"
            ],
            [
             1,
             "#f0f921"
            ]
           ]
          },
          "colorway": [
           "#636efa",
           "#EF553B",
           "#00cc96",
           "#ab63fa",
           "#FFA15A",
           "#19d3f3",
           "#FF6692",
           "#B6E880",
           "#FF97FF",
           "#FECB52"
          ],
          "font": {
           "color": "#2a3f5f"
          },
          "geo": {
           "bgcolor": "white",
           "lakecolor": "white",
           "landcolor": "white",
           "showlakes": true,
           "showland": true,
           "subunitcolor": "#C8D4E3"
          },
          "hoverlabel": {
           "align": "left"
          },
          "hovermode": "closest",
          "mapbox": {
           "style": "light"
          },
          "paper_bgcolor": "white",
          "plot_bgcolor": "white",
          "polar": {
           "angularaxis": {
            "gridcolor": "#EBF0F8",
            "linecolor": "#EBF0F8",
            "ticks": ""
           },
           "bgcolor": "white",
           "radialaxis": {
            "gridcolor": "#EBF0F8",
            "linecolor": "#EBF0F8",
            "ticks": ""
           }
          },
          "scene": {
           "xaxis": {
            "backgroundcolor": "white",
            "gridcolor": "#DFE8F3",
            "gridwidth": 2,
            "linecolor": "#EBF0F8",
            "showbackground": true,
            "ticks": "",
            "zerolinecolor": "#EBF0F8"
           },
           "yaxis": {
            "backgroundcolor": "white",
            "gridcolor": "#DFE8F3",
            "gridwidth": 2,
            "linecolor": "#EBF0F8",
            "showbackground": true,
            "ticks": "",
            "zerolinecolor": "#EBF0F8"
           },
           "zaxis": {
            "backgroundcolor": "white",
            "gridcolor": "#DFE8F3",
            "gridwidth": 2,
            "linecolor": "#EBF0F8",
            "showbackground": true,
            "ticks": "",
            "zerolinecolor": "#EBF0F8"
           }
          },
          "shapedefaults": {
           "line": {
            "color": "#2a3f5f"
           }
          },
          "ternary": {
           "aaxis": {
            "gridcolor": "#DFE8F3",
            "linecolor": "#A2B1C6",
            "ticks": ""
           },
           "baxis": {
            "gridcolor": "#DFE8F3",
            "linecolor": "#A2B1C6",
            "ticks": ""
           },
           "bgcolor": "white",
           "caxis": {
            "gridcolor": "#DFE8F3",
            "linecolor": "#A2B1C6",
            "ticks": ""
           }
          },
          "title": {
           "x": 0.05
          },
          "xaxis": {
           "automargin": true,
           "gridcolor": "#EBF0F8",
           "linecolor": "#EBF0F8",
           "ticks": "",
           "title": {
            "standoff": 15
           },
           "zerolinecolor": "#EBF0F8",
           "zerolinewidth": 2
          },
          "yaxis": {
           "automargin": true,
           "gridcolor": "#EBF0F8",
           "linecolor": "#EBF0F8",
           "ticks": "",
           "title": {
            "standoff": 15
           },
           "zerolinecolor": "#EBF0F8",
           "zerolinewidth": 2
          }
         }
        },
        "width": 1000,
        "xaxis": {
         "tickangle": 45,
         "tickfont": {
          "size": 10
         }
        },
        "yaxis": {
         "showgrid": true,
         "side": "left",
         "title": {
          "text": "Wordcount"
         }
        },
        "yaxis2": {
         "overlaying": "y",
         "showgrid": false,
         "side": "right",
         "title": {
          "text": "Politbarometer (%)"
         }
        }
       }
      }
     },
     "metadata": {},
     "output_type": "display_data"
    }
   ],
   "source": [
    "# Farben für die Parteien definieren\n",
    "parteifarben = {\n",
    "    \"afd\": \"blue\",\n",
    "    \"cdu\": \"black\",\n",
    "    \"grünen\": \"green\",\n",
    "    \"spd\": \"red\",\n",
    "}\n",
    "\n",
    "# Daten für Wordcount vorbereiten\n",
    "df_grouped_wordcount = wordcount_df.groupby([\"month\", \"word\"])[\"count\"].sum().reset_index()\n",
    "\n",
    "# Daten für Politbarometer vorbereiten\n",
    "df_grouped_parties = wahlen_df.groupby(\"month\").first().reset_index()\n",
    "\n",
    "# Interaktive Figur erstellen\n",
    "fig = go.Figure()\n",
    "\n",
    "# Wordcount-Daten hinzufügen (linke Y-Achse)\n",
    "for word in [\"afd\", \"cdu\", \"grünen\", \"spd\"]:\n",
    "    word_data = df_grouped_wordcount[df_grouped_wordcount[\"word\"] == word]\n",
    "    fig.add_trace(\n",
    "        go.Scatter(\n",
    "            x=word_data[\"month\"],\n",
    "            y=word_data[\"count\"],\n",
    "            mode=\"lines\",\n",
    "            name=f\"Wordcount: {word.upper()}\",\n",
    "            line=dict(color=parteifarben.get(word, \"gray\")),\n",
    "            yaxis=\"y1\",  # Linke Y-Achse\n",
    "            hoverinfo=\"x+y+name\"\n",
    "        )\n",
    "    )\n",
    "\n",
    "# Politbarometer-Daten hinzufügen (rechte Y-Achse)\n",
    "for column in [\"afd\", \"cdu\", \"grünen\", \"spd\"]:\n",
    "    fig.add_trace(\n",
    "        go.Scatter(\n",
    "            x=df_grouped_parties[\"month\"],\n",
    "            y=df_grouped_parties[column],\n",
    "            mode=\"lines\",\n",
    "            name=f\"Politbarometer: {column.upper()}\",\n",
    "            line=dict(color=parteifarben.get(column, \"gray\"), dash=\"dash\"),\n",
    "            yaxis=\"y2\",  # Rechte Y-Achse\n",
    "            hoverinfo=\"x+y+name\"\n",
    "        )\n",
    "    )\n",
    "\n",
    "# Layout der Grafik definieren\n",
    "fig.update_layout(\n",
    "    \n",
    "    xaxis=dict(tickangle=45, tickfont=dict(size=10)),\n",
    "    yaxis=dict(\n",
    "        title=\"Wordcount\",\n",
    "        side=\"left\",\n",
    "        showgrid=True,\n",
    "    ),\n",
    "    yaxis2=dict(\n",
    "        title=\"Politbarometer (%)\",\n",
    "        side=\"right\",\n",
    "        overlaying=\"y\",\n",
    "        showgrid=False,\n",
    "    ),\n",
    "    legend=dict(\n",
    "        title=\"Legende\",\n",
    "        orientation=\"h\",\n",
    "        yanchor=\"bottom\",\n",
    "        y=1.1,\n",
    "        xanchor=\"right\",\n",
    "        x=1\n",
    "    ),\n",
    "    template=\"plotly_white\",\n",
    "    height=600,\n",
    "    width=1000,\n",
    ")\n",
    "\n",
    "# Interaktive Figur anzeigen\n",
    "fig.show()\n",
    "\n"
   ]
  },
  {
   "cell_type": "code",
   "execution_count": 37,
   "id": "bae29b93",
   "metadata": {},
   "outputs": [],
   "source": [
    "# Optional: Grafik als HTML speichern\n",
    "#fig.write_html(\"interaktive_visualisierung.html\")"
   ]
  },
  {
   "cell_type": "code",
   "execution_count": 41,
   "id": "ccc575d0",
   "metadata": {},
   "outputs": [
    {
     "name": "stderr",
     "output_type": "stream",
     "text": [
      "C:\\Users\\hp\\AppData\\Local\\Temp\\ipykernel_13028\\1479808409.py:8: SettingWithCopyWarning:\n",
      "\n",
      "\n",
      "A value is trying to be set on a copy of a slice from a DataFrame.\n",
      "Try using .loc[row_indexer,col_indexer] = value instead\n",
      "\n",
      "See the caveats in the documentation: https://pandas.pydata.org/pandas-docs/stable/user_guide/indexing.html#returning-a-view-versus-a-copy\n",
      "\n"
     ]
    },
    {
     "data": {
      "image/png": "[encoded data removed]",
      "text/plain": [
       "<Figure size 1400x800 with 1 Axes>"
      ]
     },
     "metadata": {},
     "output_type": "display_data"
    }
   ],
   "source": [
    "import matplotlib.pyplot as plt\n",
    "import pandas as pd\n",
    "\n",
    "# Daten filtern: Nur das Jahr 2024\n",
    "wordcount_2024 = wordcount_df[wordcount_df[\"date\"].dt.year == 2024]\n",
    "\n",
    "# Gruppieren der Daten nach Woche und Partei\n",
    "wordcount_2024[\"week\"] = wordcount_2024[\"date\"].dt.to_period(\"W\").apply(lambda r: r.start_time)\n",
    "wordcount_2024_grouped = wordcount_2024.groupby([\"week\", \"word\"])[\"count\"].sum().reset_index()\n",
    "\n",
    "# Farben für die Parteien definieren\n",
    "parteifarben = {\n",
    "    \"afd\": \"blue\",\n",
    "    \"cdu\": \"black\",\n",
    "    \"grünen\": \"green\",\n",
    "    \"spd\": \"red\",\n",
    "    \"fdp\": \"yellow\",\n",
    "    \"linke\": \"purple\",\n",
    "    \"bsw\": \"orange\",\n",
    "}\n",
    "\n",
    "# Erstellen der Plot-Figur\n",
    "plt.figure(figsize=(14, 8))\n",
    "\n",
    "# Daten für jede Partei plotten\n",
    "for word in wordcount_2024_grouped[\"word\"].unique():\n",
    "    word_data = wordcount_2024_grouped[wordcount_2024_grouped[\"word\"] == word]\n",
    "    plt.plot(\n",
    "        word_data[\"week\"],\n",
    "        word_data[\"count\"],\n",
    "        label=word.upper(),\n",
    "        color=parteifarben.get(word, \"gray\"),\n",
    "        linewidth=1.5,\n",
    "    )\n",
    "\n",
    "# Achsentitel und Diagrammtitel\n",
    "plt.title(\"Wordcount für alle Parteien im Jahr 2024 (Wöchentlich)\", fontsize=16)\n",
    "plt.xlabel(\"Woche\", fontsize=14)\n",
    "plt.ylabel(\"Wordcount\", fontsize=14)\n",
    "\n",
    "# Legende und Raster\n",
    "plt.legend(title=\"Parteien\", fontsize=10)\n",
    "plt.grid(axis=\"y\", linestyle=\"--\", alpha=0.7)\n",
    "\n",
    "# X-Achse rotieren für bessere Lesbarkeit\n",
    "plt.xticks(rotation=45, fontsize=10)\n",
    "plt.yticks(fontsize=10)\n",
    "\n",
    "# Layout anpassen\n",
    "plt.tight_layout()\n",
    "\n",
    "# Plot anzeigen\n",
    "plt.show()\n"
   ]
  },
  {
   "cell_type": "code",
   "execution_count": null,
   "id": "abb9e289",
   "metadata": {},
   "outputs": [],
   "source": []
  }
 ],
 "metadata": {
  "kernelspec": {
   "display_name": "dennis",
   "language": "python",
   "name": "python3"
  },
  "language_info": {
   "codemirror_mode": {
    "name": "ipython",
    "version": 3
   },
   "file_extension": ".py",
   "mimetype": "text/x-python",
   "name": "python",
   "nbconvert_exporter": "python",
   "pygments_lexer": "ipython3",
   "version": "3.10.16"
  }
 },
 "nbformat": 4,
 "nbformat_minor": 5
}
