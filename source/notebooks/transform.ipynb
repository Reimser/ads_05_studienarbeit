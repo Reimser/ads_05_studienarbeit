{
 "cells": [
  {
   "cell_type": "markdown",
   "id": "ef415443-27eb-4d62-8459-45266687b4c4",
   "metadata": {},
   "source": [
    "# Transform"
   ]
  },
  {
   "cell_type": "markdown",
   "id": "28c34882-934a-4ce0-8423-498672b3b8c7",
   "metadata": {},
   "source": [
    "## Import"
   ]
  },
  {
   "cell_type": "code",
   "execution_count": 60,
   "id": "ee17373e-ea03-4e88-b843-7abd53b426fe",
   "metadata": {},
   "outputs": [],
   "source": [
    "import pandas as pd\n",
    "import numpy as np\n",
    "import os\n",
    "import json"
   ]
  },
  {
   "cell_type": "code",
   "execution_count": 61,
   "id": "582fd41a-675f-4499-9524-379b6e7abfc3",
   "metadata": {
    "tags": []
   },
   "outputs": [],
   "source": [
    "# Pfad\n",
    "TEMPLATE_PATH = os.path.abspath(os.path.join(os.getcwd(), \"..\", \"..\", \"_templates\"))"
   ]
  },
  {
   "cell_type": "code",
   "execution_count": 62,
   "id": "b2618a9f-8ad5-4141-bc96-6e2f5c1c4a5a",
   "metadata": {
    "tags": []
   },
   "outputs": [],
   "source": [
    "# Lade die Pickle-Dateien\n",
    "partei_df = pd.read_pickle(os.path.join(TEMPLATE_PATH, \"parteien.pickle\"))\n",
    "wahlen = pd.read_pickle(os.path.join(TEMPLATE_PATH, \"politbarometer.pickle\"))"
   ]
  },
  {
   "cell_type": "markdown",
   "id": "29a32f4a-ab6c-43b7-ad65-28a25f3eab4b",
   "metadata": {
    "tags": []
   },
   "source": [
    "## Analyse"
   ]
  },
  {
   "cell_type": "code",
   "execution_count": 63,
   "id": "df31264e-daa0-4547-aeb9-6cfc52f55020",
   "metadata": {},
   "outputs": [
    {
     "name": "stdout",
     "output_type": "stream",
     "text": [
      "(37948064, 4) (568, 8)\n"
     ]
    }
   ],
   "source": [
    "print(partei_df.shape, wahlen.shape)"
   ]
  },
  {
   "cell_type": "code",
   "execution_count": 64,
   "id": "14bb140f-0a08-4964-9fc9-8d9600aff5df",
   "metadata": {
    "tags": []
   },
   "outputs": [],
   "source": [
    "partei_df=partei_df.dropna()"
   ]
  },
  {
   "cell_type": "code",
   "execution_count": 65,
   "id": "dbe46764",
   "metadata": {},
   "outputs": [
    {
     "data": {
      "text/html": [
       "<div>\n",
       "<style scoped>\n",
       "    .dataframe tbody tr th:only-of-type {\n",
       "        vertical-align: middle;\n",
       "    }\n",
       "\n",
       "    .dataframe tbody tr th {\n",
       "        vertical-align: top;\n",
       "    }\n",
       "\n",
       "    .dataframe thead th {\n",
       "        text-align: right;\n",
       "    }\n",
       "</style>\n",
       "<table border=\"1\" class=\"dataframe\">\n",
       "  <thead>\n",
       "    <tr style=\"text-align: right;\">\n",
       "      <th></th>\n",
       "      <th>count</th>\n",
       "      <th>word</th>\n",
       "      <th>date</th>\n",
       "      <th>paper</th>\n",
       "    </tr>\n",
       "  </thead>\n",
       "  <tbody>\n",
       "    <tr>\n",
       "      <th>1232</th>\n",
       "      <td>1</td>\n",
       "      <td>cdu</td>\n",
       "      <td>2021-04-01</td>\n",
       "      <td>sz</td>\n",
       "    </tr>\n",
       "    <tr>\n",
       "      <th>1771</th>\n",
       "      <td>1</td>\n",
       "      <td>cdu</td>\n",
       "      <td>2021-04-01</td>\n",
       "      <td>sz</td>\n",
       "    </tr>\n",
       "    <tr>\n",
       "      <th>2940</th>\n",
       "      <td>2</td>\n",
       "      <td>cdu</td>\n",
       "      <td>2021-04-01</td>\n",
       "      <td>zeit</td>\n",
       "    </tr>\n",
       "    <tr>\n",
       "      <th>3451</th>\n",
       "      <td>1</td>\n",
       "      <td>cdu</td>\n",
       "      <td>2021-04-01</td>\n",
       "      <td>zeit</td>\n",
       "    </tr>\n",
       "    <tr>\n",
       "      <th>6018</th>\n",
       "      <td>1</td>\n",
       "      <td>grünen</td>\n",
       "      <td>2021-04-01</td>\n",
       "      <td>faz</td>\n",
       "    </tr>\n",
       "  </tbody>\n",
       "</table>\n",
       "</div>"
      ],
      "text/plain": [
       "      count    word        date paper\n",
       "1232      1     cdu  2021-04-01    sz\n",
       "1771      1     cdu  2021-04-01    sz\n",
       "2940      2     cdu  2021-04-01  zeit\n",
       "3451      1     cdu  2021-04-01  zeit\n",
       "6018      1  grünen  2021-04-01   faz"
      ]
     },
     "execution_count": 65,
     "metadata": {},
     "output_type": "execute_result"
    }
   ],
   "source": [
    "partei_df.head()"
   ]
  },
  {
   "cell_type": "code",
   "execution_count": 66,
   "id": "bf543d29-8324-4dd3-a2bd-f28b9ff157f2",
   "metadata": {
    "tags": []
   },
   "outputs": [],
   "source": [
    "# Eine Kopie der Daten erstellen\n",
    "wahlen = wahlen.copy()\n",
    "wordcount = partei_df.copy()"
   ]
  },
  {
   "cell_type": "markdown",
   "id": "e7b09f0e-bccf-4136-921f-e0acee27bdd3",
   "metadata": {},
   "source": [
    "## Wordcount df's erstellen"
   ]
  },
  {
   "cell_type": "markdown",
   "id": "427f99ce",
   "metadata": {},
   "source": [
    "In diesem Code werden die gesuchten Parteinamen ab einem bestimmten Datum gefiltert, aggregiert und in verschiedene Zeitformate umgewandelt, um eine übersichtliche Auswertung zu ermöglichen."
   ]
  },
  {
   "cell_type": "code",
   "execution_count": 67,
   "id": "a4f10d06-0481-4b16-9089-ba70573ee995",
   "metadata": {
    "tags": []
   },
   "outputs": [],
   "source": [
    "# Einschränken auf Daten ab 2021-04-01 und Index zurücksetzen\n",
    "wordcount = wordcount[wordcount['date'] >= '2021-04-01'].reset_index(drop=True)\n",
    "wordcount = wordcount[wordcount[\"date\"] <= \"2024-12-01\"].reset_index(drop=True)\n",
    "\n",
    "# Gruppieren nach Datum und Wort sowie Aufsummieren der 'count'-Werte\n",
    "wordcount = wordcount.groupby(['date', 'word']).agg({'count': 'sum'}).reset_index()\n",
    "\n",
    "# Konvertieren der 'date'-Spalte in ein Datumsformat\n",
    "wordcount[\"date\"] = pd.to_datetime(wordcount[\"date\"])\n",
    "\n",
    "# Hinzufügen einer Spalte für das Jahr und den Monat (Format 'YYYY-MM')\n",
    "wordcount[\"month\"] = wordcount[\"date\"].dt.strftime('%Y-%m')\n",
    "\n",
    "# Hinzufügen einer Spalte für das Quartal\n",
    "wordcount[\"quarter\"] = wordcount[\"date\"].dt.to_period('Q')\n",
    "\n",
    "# Ermitteln der Gesamtanzahl pro Wort\n",
    "word_counts = wordcount.groupby(\"word\")[\"count\"].sum()"
   ]
  },
  {
   "cell_type": "code",
   "execution_count": 68,
   "id": "af8bdd9d-2553-4311-ae7a-16b95bddc5ce",
   "metadata": {},
   "outputs": [
    {
     "data": {
      "text/plain": [
       "word\n",
       "afd       37128\n",
       "bsw        4873\n",
       "cdu       33175\n",
       "fdp       22829\n",
       "grünen    27395\n",
       "linke     22414\n",
       "spd       33849\n",
       "Name: count, dtype: int64"
      ]
     },
     "execution_count": 68,
     "metadata": {},
     "output_type": "execute_result"
    }
   ],
   "source": [
    "word_counts"
   ]
  },
  {
   "cell_type": "markdown",
   "id": "cf582749",
   "metadata": {},
   "source": [
    "Hier werden die Parteien definiert, die in der Visualisierung zusammen dargestellt werden sollen"
   ]
  },
  {
   "cell_type": "code",
   "execution_count": 69,
   "id": "7abdb400-db06-446e-a3e2-ceabf2dc4121",
   "metadata": {
    "tags": []
   },
   "outputs": [],
   "source": [
    "# Liste der Wörter, die behalten werden sollen\n",
    "words_to_keep = [\"grünen\", \"afd\"]\n",
    "wordkeep = [\"spd\", \"cdu\"]\n",
    "# Filtern des DataFrames, um nur die gewünschten Wörter zu behalten\n",
    "kleine_parties = wordcount[wordcount[\"word\"].isin(words_to_keep)]\n",
    "große_parties = wordcount[wordcount[\"word\"].isin(wordkeep)]"
   ]
  },
  {
   "cell_type": "markdown",
   "id": "8c0bc34a-5e64-4b81-923b-7f96ab2c6397",
   "metadata": {},
   "source": [
    "## Wahlen (Politbarometer) df erstellen"
   ]
  },
  {
   "cell_type": "markdown",
   "id": "2e2eadad",
   "metadata": {},
   "source": [
    "In diesem Code werden die Barometerdaten auf einen bestimmten Zeitraum eingeschränkt, ihre Spalten vereinheitlicht und zusätzliche Zeitintervalle für die Analyse hinzugefügt."
   ]
  },
  {
   "cell_type": "code",
   "execution_count": 70,
   "id": "83e844fc-0eb6-49f1-a224-d06a5b7cba08",
   "metadata": {
    "tags": []
   },
   "outputs": [
    {
     "name": "stdout",
     "output_type": "stream",
     "text": [
      "Länge von date: 72\n",
      "Länge von cdu: 72\n",
      "Länge von spd: 72\n",
      "Länge von grüne: 72\n",
      "Länge von fdp: 72\n",
      "Länge von linke: 72\n",
      "Länge von afd: 72\n",
      "Länge von bsw: 72\n",
      "Länge von quarter: 72\n",
      "Länge von month: 72\n"
     ]
    }
   ],
   "source": [
    "# Konvertieren der 'date'-Spalte in ein Datumsformat\n",
    "wahlen[\"date\"] = pd.to_datetime(wahlen[\"date\"])\n",
    "\n",
    "# Daten auf Zeitraum vom 01.04.2021 bis 01.12.2024 beschränken\n",
    "wahlen = wahlen[wahlen[\"date\"] >= \"2021-04-01\"].reset_index(drop=True)\n",
    "wahlen = wahlen[wahlen[\"date\"] <= \"2024-12-01\"].reset_index(drop=True)\n",
    "\n",
    "# Spaltennamen vereinheitlichen und neue Zeitspalten hinzufügen\n",
    "wahlen.columns = wahlen.columns.str.lower()\n",
    "wahlen[\"quarter\"] = wahlen[\"date\"].dt.to_period(\"Q\").astype(str)\n",
    "wahlen[\"month\"] = wahlen[\"date\"].dt.to_period(\"M\").astype(str)\n",
    "\n",
    "# Konvertieren der CDU-Spalte in Integer\n",
    "wahlen[\"cdu\"] = wahlen[\"cdu\"].astype(int)\n",
    "\n",
    "# Wandle alle spezifischen Spalten von float zu integer um\n",
    "wahlen[['cdu', 'spd', 'grüne', 'fdp', 'linke', 'afd', 'bsw']] = wahlen[['cdu', 'spd', 'grüne', 'fdp', 'linke', 'afd', 'bsw']].fillna(0).astype(int)\n",
    "\n",
    "# Länge jeder Spalte ausgeben\n",
    "for key, value in wahlen.items():\n",
    "    print(f'Länge von {key}:', len(value))\n"
   ]
  },
  {
   "cell_type": "markdown",
   "id": "27f60f6f",
   "metadata": {},
   "source": [
    "## json-Datei erstellen fuer d3 visualisierung\n"
   ]
  },
  {
   "cell_type": "code",
   "execution_count": 71,
   "id": "eabec34d",
   "metadata": {},
   "outputs": [],
   "source": [
    "df = partei_df.copy()\n",
    "\n",
    "# Datum umwandeln und sortieren\n",
    "df[\"date\"] = pd.to_datetime(df[\"date\"])\n",
    "df = df.sort_values(by=[\"word\", \"date\"])\n",
    "\n",
    "# Kumulative Summe berechnen\n",
    "df[\"cumulative_count\"] = df.groupby(\"word\")[\"count\"].cumsum()\n",
    "\n",
    "# Datum in JSON-kompatibles Format umwandeln\n",
    "df[\"date\"] = df[\"date\"].dt.strftime(\"%Y-%m-%d\")\n",
    "\n",
    "# Gruppieren und JSON-strukturierte Daten erstellen\n",
    "grouped_data = df.groupby(\"word\").apply(\n",
    "    lambda group: group[[\"date\", \"cumulative_count\"]].to_dict(orient=\"records\")\n",
    ").to_dict()"
   ]
  },
  {
   "cell_type": "markdown",
   "id": "7977a5aa-0c84-44ee-b63d-91194fedb433",
   "metadata": {},
   "source": [
    "## Export"
   ]
  },
  {
   "cell_type": "code",
   "execution_count": 72,
   "id": "db0d1bcd-109e-4238-8fe0-8eacc38effd3",
   "metadata": {},
   "outputs": [],
   "source": [
    "# Df's als pickle speichern\n",
    "kleine_parties.to_pickle(os.path.join(TEMPLATE_PATH, \"kleine.pickle\"))\n",
    "große_parties.to_pickle(os.path.join(TEMPLATE_PATH, \"große.pickle\"))\n",
    "wahlen.to_pickle(os.path.join(TEMPLATE_PATH, \"wahlen.pickle\"))\n",
    "partei_df.to_pickle(os.path.join(TEMPLATE_PATH, \"alle_parteien.pickle\"))\n",
    "word_counts.to_pickle(os.path.join(TEMPLATE_PATH, \"kumuliert.pickle\"))"
   ]
  },
  {
   "cell_type": "code",
   "execution_count": 73,
   "id": "08d9151d",
   "metadata": {},
   "outputs": [
    {
     "name": "stdout",
     "output_type": "stream",
     "text": [
      "Kumulierte JSON-Daten gespeichert unter: c:\\Users\\hp\\OneDrive\\Desktop\\DBU\\ads_05\\ads_05_studienarbeit\\_templates\\cumulative_parteien.json\n"
     ]
    }
   ],
   "source": [
    "# JSON-Pfad fuer d3 Plot \n",
    "json_path = os.path.join(TEMPLATE_PATH, \"cumulative_parteien.json\")\n",
    "\n",
    "# JSON-Datei speichern\n",
    "with open(json_path, \"w\") as f:\n",
    "    json.dump(grouped_data, f)\n",
    "\n",
    "print(f\"Kumulierte JSON-Daten gespeichert unter: {json_path}\")"
   ]
  }
 ],
 "metadata": {
  "kernelspec": {
   "display_name": "dennis",
   "language": "python",
   "name": "python3"
  },
  "language_info": {
   "codemirror_mode": {
    "name": "ipython",
    "version": 3
   },
   "file_extension": ".py",
   "mimetype": "text/x-python",
   "name": "python",
   "nbconvert_exporter": "python",
   "pygments_lexer": "ipython3",
   "version": "3.10.16"
  }
 },
 "nbformat": 4,
 "nbformat_minor": 5
}
