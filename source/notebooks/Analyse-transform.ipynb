{
 "cells": [
  {
   "cell_type": "markdown",
   "id": "ef415443-27eb-4d62-8459-45266687b4c4",
   "metadata": {},
   "source": [
    "# Analyze and Transform"
   ]
  },
  {
   "cell_type": "markdown",
   "id": "28c34882-934a-4ce0-8423-498672b3b8c7",
   "metadata": {},
   "source": [
    "## Import"
   ]
  },
  {
   "cell_type": "code",
   "execution_count": 1,
   "id": "ee17373e-ea03-4e88-b843-7abd53b426fe",
   "metadata": {},
   "outputs": [],
   "source": [
    "import pandas as pd\n",
    "import sqlite3\n",
    "import matplotlib.pyplot as plt\n",
    "import matplotlib.dates as mdates\n",
    "import matplotlib.lines as mlines\n",
    "import numpy as np\n",
    "import os"
   ]
  },
  {
   "cell_type": "code",
   "execution_count": 2,
   "id": "582fd41a-675f-4499-9524-379b6e7abfc3",
   "metadata": {
    "tags": []
   },
   "outputs": [],
   "source": [
    "SQL_FILE = \"../temp/meine_datenbank.db\"\n",
    "TEMP_PATH = os.path.join(\"..\", \"temp\")"
   ]
  },
  {
   "cell_type": "code",
   "execution_count": 3,
   "id": "ff81e593-b78d-419b-aa42-c8a0ebc3d91f",
   "metadata": {},
   "outputs": [
    {
     "name": "stdout",
     "output_type": "stream",
     "text": [
      "Absoluter Pfad zur Datenbank: /Users/dennis/Desktop/DBU/ads-03/ads-03-Studienarbeit/temp/meine_datenbank.db\n",
      "Die Datei existiert. Verbindung wird hergestellt.\n"
     ]
    }
   ],
   "source": [
    "absolute_path = os.path.abspath(SQL_FILE)\n",
    "print(\"Absoluter Pfad zur Datenbank:\", absolute_path)\n",
    "\n",
    "# Überprüfe ob die Datei am angegebenen Pfad existiert\n",
    "if os.path.exists(absolute_path):\n",
    "    print(\"Die Datei existiert. Verbindung wird hergestellt.\")\n",
    "    con = sqlite3.connect(absolute_path)\n",
    "else:\n",
    "    print(\"Die Datei existiert nicht am angegebenen Pfad. Bitte überprüfen Sie den Pfad.\")"
   ]
  },
  {
   "cell_type": "code",
   "execution_count": 4,
   "id": "cc92442c-9b60-460f-8375-491248a205c5",
   "metadata": {
    "tags": []
   },
   "outputs": [],
   "source": [
    "con = sqlite3.connect(SQL_FILE)"
   ]
  },
  {
   "cell_type": "code",
   "execution_count": 5,
   "id": "b2618a9f-8ad5-4141-bc96-6e2f5c1c4a5a",
   "metadata": {
    "tags": []
   },
   "outputs": [],
   "source": [
    "partei_df=pd.read_sql_query(\"select * from party\", con=con)\n",
    "wahlen_df=pd.read_sql_query(\"select * from wahlen\", con=con)"
   ]
  },
  {
   "cell_type": "markdown",
   "id": "29a32f4a-ab6c-43b7-ad65-28a25f3eab4b",
   "metadata": {
    "tags": []
   },
   "source": [
    "# Analyse"
   ]
  },
  {
   "cell_type": "code",
   "execution_count": 6,
   "id": "df31264e-daa0-4547-aeb9-6cfc52f55020",
   "metadata": {},
   "outputs": [
    {
     "name": "stdout",
     "output_type": "stream",
     "text": [
      "(74966, 4) (64, 7)\n"
     ]
    }
   ],
   "source": [
    "print(partei_df.shape, wahlen_df.shape)"
   ]
  },
  {
   "cell_type": "code",
   "execution_count": 7,
   "id": "14bb140f-0a08-4964-9fc9-8d9600aff5df",
   "metadata": {
    "tags": []
   },
   "outputs": [
    {
     "data": {
      "text/html": [
       "<div>\n",
       "<style scoped>\n",
       "    .dataframe tbody tr th:only-of-type {\n",
       "        vertical-align: middle;\n",
       "    }\n",
       "\n",
       "    .dataframe tbody tr th {\n",
       "        vertical-align: top;\n",
       "    }\n",
       "\n",
       "    .dataframe thead th {\n",
       "        text-align: right;\n",
       "    }\n",
       "</style>\n",
       "<table border=\"1\" class=\"dataframe\">\n",
       "  <thead>\n",
       "    <tr style=\"text-align: right;\">\n",
       "      <th></th>\n",
       "      <th>date</th>\n",
       "      <th>count</th>\n",
       "      <th>word</th>\n",
       "      <th>paper</th>\n",
       "    </tr>\n",
       "  </thead>\n",
       "  <tbody>\n",
       "    <tr>\n",
       "      <th>0</th>\n",
       "      <td>2022-04-18</td>\n",
       "      <td>1</td>\n",
       "      <td>linke</td>\n",
       "      <td>zeit</td>\n",
       "    </tr>\n",
       "    <tr>\n",
       "      <th>1</th>\n",
       "      <td>2022-04-18</td>\n",
       "      <td>2</td>\n",
       "      <td>spd</td>\n",
       "      <td>faz</td>\n",
       "    </tr>\n",
       "    <tr>\n",
       "      <th>2</th>\n",
       "      <td>2022-04-18</td>\n",
       "      <td>2</td>\n",
       "      <td>cdu</td>\n",
       "      <td>faz</td>\n",
       "    </tr>\n",
       "    <tr>\n",
       "      <th>3</th>\n",
       "      <td>2022-04-18</td>\n",
       "      <td>1</td>\n",
       "      <td>afd</td>\n",
       "      <td>faz</td>\n",
       "    </tr>\n",
       "    <tr>\n",
       "      <th>4</th>\n",
       "      <td>2022-04-18</td>\n",
       "      <td>1</td>\n",
       "      <td>cdu</td>\n",
       "      <td>faz</td>\n",
       "    </tr>\n",
       "  </tbody>\n",
       "</table>\n",
       "</div>"
      ],
      "text/plain": [
       "         date  count   word paper\n",
       "0  2022-04-18      1  linke  zeit\n",
       "1  2022-04-18      2    spd   faz\n",
       "2  2022-04-18      2    cdu   faz\n",
       "3  2022-04-18      1    afd   faz\n",
       "4  2022-04-18      1    cdu   faz"
      ]
     },
     "execution_count": 7,
     "metadata": {},
     "output_type": "execute_result"
    }
   ],
   "source": [
    "partei_df.head()"
   ]
  },
  {
   "cell_type": "code",
   "execution_count": 8,
   "id": "586a622e-2078-4b75-98a5-d70cbd66bec8",
   "metadata": {
    "tags": []
   },
   "outputs": [
    {
     "data": {
      "text/html": [
       "<div>\n",
       "<style scoped>\n",
       "    .dataframe tbody tr th:only-of-type {\n",
       "        vertical-align: middle;\n",
       "    }\n",
       "\n",
       "    .dataframe tbody tr th {\n",
       "        vertical-align: top;\n",
       "    }\n",
       "\n",
       "    .dataframe thead th {\n",
       "        text-align: right;\n",
       "    }\n",
       "</style>\n",
       "<table border=\"1\" class=\"dataframe\">\n",
       "  <thead>\n",
       "    <tr style=\"text-align: right;\">\n",
       "      <th></th>\n",
       "      <th>date</th>\n",
       "      <th>CDU</th>\n",
       "      <th>SPD</th>\n",
       "      <th>Grüne</th>\n",
       "      <th>FDP</th>\n",
       "      <th>Linke</th>\n",
       "      <th>AfD</th>\n",
       "    </tr>\n",
       "  </thead>\n",
       "  <tbody>\n",
       "    <tr>\n",
       "      <th>0</th>\n",
       "      <td>2021-01-15 00:00:00.000000</td>\n",
       "      <td>37</td>\n",
       "      <td>15</td>\n",
       "      <td>20</td>\n",
       "      <td>5</td>\n",
       "      <td>8</td>\n",
       "      <td>10</td>\n",
       "    </tr>\n",
       "    <tr>\n",
       "      <th>1</th>\n",
       "      <td>2021-01-28 00:00:00.000000</td>\n",
       "      <td>37</td>\n",
       "      <td>15</td>\n",
       "      <td>20</td>\n",
       "      <td>6</td>\n",
       "      <td>7</td>\n",
       "      <td>9</td>\n",
       "    </tr>\n",
       "    <tr>\n",
       "      <th>2</th>\n",
       "      <td>2021-02-26 00:00:00.000000</td>\n",
       "      <td>35</td>\n",
       "      <td>16</td>\n",
       "      <td>19</td>\n",
       "      <td>7</td>\n",
       "      <td>7</td>\n",
       "      <td>10</td>\n",
       "    </tr>\n",
       "    <tr>\n",
       "      <th>3</th>\n",
       "      <td>2021-03-26 00:00:00.000000</td>\n",
       "      <td>28</td>\n",
       "      <td>15</td>\n",
       "      <td>23</td>\n",
       "      <td>9</td>\n",
       "      <td>7</td>\n",
       "      <td>12</td>\n",
       "    </tr>\n",
       "    <tr>\n",
       "      <th>4</th>\n",
       "      <td>2021-04-16 00:00:00.000000</td>\n",
       "      <td>31</td>\n",
       "      <td>14</td>\n",
       "      <td>21</td>\n",
       "      <td>9</td>\n",
       "      <td>7</td>\n",
       "      <td>11</td>\n",
       "    </tr>\n",
       "  </tbody>\n",
       "</table>\n",
       "</div>"
      ],
      "text/plain": [
       "                         date CDU  SPD  Grüne  FDP  Linke  AfD\n",
       "0  2021-01-15 00:00:00.000000  37   15     20    5      8   10\n",
       "1  2021-01-28 00:00:00.000000  37   15     20    6      7    9\n",
       "2  2021-02-26 00:00:00.000000  35   16     19    7      7   10\n",
       "3  2021-03-26 00:00:00.000000  28   15     23    9      7   12\n",
       "4  2021-04-16 00:00:00.000000  31   14     21    9      7   11"
      ]
     },
     "execution_count": 8,
     "metadata": {},
     "output_type": "execute_result"
    }
   ],
   "source": [
    "wahlen_df.head()"
   ]
  },
  {
   "cell_type": "code",
   "execution_count": 9,
   "id": "bf543d29-8324-4dd3-a2bd-f28b9ff157f2",
   "metadata": {
    "tags": []
   },
   "outputs": [],
   "source": [
    "# Eine Kopie der Daten erstellen\n",
    "wahlen = wahlen_df.copy()\n",
    "wordcount = partei_df.copy()"
   ]
  },
  {
   "cell_type": "markdown",
   "id": "e7b09f0e-bccf-4136-921f-e0acee27bdd3",
   "metadata": {},
   "source": [
    "## Wordcount df erstellen"
   ]
  },
  {
   "cell_type": "markdown",
   "id": "427f99ce",
   "metadata": {},
   "source": [
    "In diesem Code werden die gesuchten Parteinamen ab einem bestimmten Datum gefiltert, aggregiert und in verschiedene Zeitformate umgewandelt, um eine übersichtliche Auswertung zu ermöglichen."
   ]
  },
  {
   "cell_type": "code",
   "execution_count": 10,
   "id": "a4f10d06-0481-4b16-9089-ba70573ee995",
   "metadata": {
    "tags": []
   },
   "outputs": [],
   "source": [
    "# Einschränken auf Daten ab 2021-04-01 und Index zurücksetzen\n",
    "wordcount = wordcount[wordcount['date'] >= '2021-04-01'].reset_index(drop=True)\n",
    "# Gruppieren nach Datum und Wort sowie Aufsummieren der 'count'-Werte\n",
    "wordcount = wordcount.groupby(['date', 'word']).agg({'count': 'sum'}).reset_index()\n",
    "\n",
    "# Konvertieren der 'date'-Spalte in ein Datumsformat\n",
    "wordcount[\"date\"] = pd.to_datetime(wordcount[\"date\"])\n",
    "\n",
    "# Hinzufügen einer Spalte für das Jahr und den Monat (Format 'YYYY-MM')\n",
    "wordcount[\"month\"] = wordcount[\"date\"].dt.strftime('%Y-%m')\n",
    "# Hinzufügen einer Spalte für das Quartal\n",
    "wordcount[\"quarter\"] = wordcount[\"date\"].dt.to_period('Q')\n",
    "\n",
    "# Ermitteln der Gesamtanzahl pro Wort\n",
    "word_counts = wordcount.groupby(\"word\")[\"count\"].sum()"
   ]
  },
  {
   "cell_type": "code",
   "execution_count": 13,
   "id": "9b0b669a-f0b1-449c-ab81-c3af44d19284",
   "metadata": {},
   "outputs": [
    {
     "data": {
      "text/plain": [
       "word\n",
       "afd       14775\n",
       "linke     15054\n",
       "fdp       15077\n",
       "grünen    18473\n",
       "spd       21914\n",
       "cdu       22224\n",
       "Name: count, dtype: int64"
      ]
     },
     "execution_count": 13,
     "metadata": {},
     "output_type": "execute_result"
    }
   ],
   "source": [
    "word_counts.sort_values()"
   ]
  },
  {
   "cell_type": "code",
   "execution_count": 14,
   "id": "af8bdd9d-2553-4311-ae7a-16b95bddc5ce",
   "metadata": {},
   "outputs": [
    {
     "data": {
      "text/html": [
       "<div>\n",
       "<style scoped>\n",
       "    .dataframe tbody tr th:only-of-type {\n",
       "        vertical-align: middle;\n",
       "    }\n",
       "\n",
       "    .dataframe tbody tr th {\n",
       "        vertical-align: top;\n",
       "    }\n",
       "\n",
       "    .dataframe thead th {\n",
       "        text-align: right;\n",
       "    }\n",
       "</style>\n",
       "<table border=\"1\" class=\"dataframe\">\n",
       "  <thead>\n",
       "    <tr style=\"text-align: right;\">\n",
       "      <th></th>\n",
       "      <th>date</th>\n",
       "      <th>word</th>\n",
       "      <th>count</th>\n",
       "      <th>month</th>\n",
       "      <th>quarter</th>\n",
       "    </tr>\n",
       "  </thead>\n",
       "  <tbody>\n",
       "    <tr>\n",
       "      <th>0</th>\n",
       "      <td>2021-04-01</td>\n",
       "      <td>afd</td>\n",
       "      <td>8</td>\n",
       "      <td>2021-04</td>\n",
       "      <td>2021Q2</td>\n",
       "    </tr>\n",
       "    <tr>\n",
       "      <th>1</th>\n",
       "      <td>2021-04-01</td>\n",
       "      <td>cdu</td>\n",
       "      <td>43</td>\n",
       "      <td>2021-04</td>\n",
       "      <td>2021Q2</td>\n",
       "    </tr>\n",
       "    <tr>\n",
       "      <th>2</th>\n",
       "      <td>2021-04-01</td>\n",
       "      <td>fdp</td>\n",
       "      <td>2</td>\n",
       "      <td>2021-04</td>\n",
       "      <td>2021Q2</td>\n",
       "    </tr>\n",
       "    <tr>\n",
       "      <th>3</th>\n",
       "      <td>2021-04-01</td>\n",
       "      <td>grünen</td>\n",
       "      <td>20</td>\n",
       "      <td>2021-04</td>\n",
       "      <td>2021Q2</td>\n",
       "    </tr>\n",
       "    <tr>\n",
       "      <th>4</th>\n",
       "      <td>2021-04-01</td>\n",
       "      <td>linke</td>\n",
       "      <td>9</td>\n",
       "      <td>2021-04</td>\n",
       "      <td>2021Q2</td>\n",
       "    </tr>\n",
       "  </tbody>\n",
       "</table>\n",
       "</div>"
      ],
      "text/plain": [
       "        date    word  count    month quarter\n",
       "0 2021-04-01     afd      8  2021-04  2021Q2\n",
       "1 2021-04-01     cdu     43  2021-04  2021Q2\n",
       "2 2021-04-01     fdp      2  2021-04  2021Q2\n",
       "3 2021-04-01  grünen     20  2021-04  2021Q2\n",
       "4 2021-04-01   linke      9  2021-04  2021Q2"
      ]
     },
     "execution_count": 14,
     "metadata": {},
     "output_type": "execute_result"
    }
   ],
   "source": [
    "wordcount.head()"
   ]
  },
  {
   "cell_type": "code",
   "execution_count": 15,
   "id": "7abdb400-db06-446e-a3e2-ceabf2dc4121",
   "metadata": {
    "tags": []
   },
   "outputs": [],
   "source": [
    "# Liste der Wörter, die behalten werden sollen\n",
    "words_to_keep = [\"grünen\", \"afd\"]\n",
    "wordkeep = [\"spd\", \"cdu\"]\n",
    "# Filtern des DataFrames, um nur die gewünschten Wörter zu behalten\n",
    "kleine_parties = wordcount[wordcount[\"word\"].isin(words_to_keep)]\n",
    "große_parties = wordcount[wordcount[\"word\"].isin(wordkeep)]"
   ]
  },
  {
   "cell_type": "markdown",
   "id": "8c0bc34a-5e64-4b81-923b-7f96ab2c6397",
   "metadata": {},
   "source": [
    "## Wahlen (Barometer) df erstellen"
   ]
  },
  {
   "cell_type": "markdown",
   "id": "2e2eadad",
   "metadata": {},
   "source": [
    "In diesem Code werden die Barometerdaten auf einen bestimmten Zeitraum eingeschränkt, ihre Spalten vereinheitlicht und zusätzliche Zeitintervalle für die Analyse hinzugefügt."
   ]
  },
  {
   "cell_type": "code",
   "execution_count": 16,
   "id": "83e844fc-0eb6-49f1-a224-d06a5b7cba08",
   "metadata": {
    "tags": []
   },
   "outputs": [],
   "source": [
    "# Konvertieren der 'date'-Spalte in ein Datumsformat\n",
    "wahlen[\"date\"] = pd.to_datetime(wahlen[\"date\"])\n",
    "\n",
    "# Daten auf Zeitraum vom 01.04.2021 bis 01.02.2024 beschränken\n",
    "wahlen = wahlen[wahlen[\"date\"] >= \"2021-04-01\"].reset_index(drop=True)\n",
    "wahlen = wahlen[wahlen[\"date\"] <= \"2024-02-01\"].reset_index(drop=True)\n",
    "\n",
    "# Spaltennamen vereinheitlichen und neue Zeitspalten hinzufügen\n",
    "wahlen.columns = wahlen.columns.str.lower()\n",
    "wahlen[\"quarter\"] = wahlen[\"date\"].dt.to_period(\"Q\").astype(str)\n",
    "wahlen[\"month\"] = wahlen[\"date\"].dt.to_period(\"M\").astype(str)\n",
    "\n",
    "# Konvertieren der CDU-Spalte in Integer\n",
    "wahlen[\"cdu\"] = wahlen[\"cdu\"].astype(int)\n",
    "\n",
    "# Länge jeder Spalte ausgeben\n",
    "for key, value in wahlen.items():\n",
    "    print(f'Länge von {key}:', len(value))\n"
   ]
  },
  {
   "cell_type": "code",
   "execution_count": 21,
   "id": "835fbc82-8248-4e19-a05c-2a6c7e1a7127",
   "metadata": {},
   "outputs": [
    {
     "data": {
      "text/html": [
       "<div>\n",
       "<style scoped>\n",
       "    .dataframe tbody tr th:only-of-type {\n",
       "        vertical-align: middle;\n",
       "    }\n",
       "\n",
       "    .dataframe tbody tr th {\n",
       "        vertical-align: top;\n",
       "    }\n",
       "\n",
       "    .dataframe thead th {\n",
       "        text-align: right;\n",
       "    }\n",
       "</style>\n",
       "<table border=\"1\" class=\"dataframe\">\n",
       "  <thead>\n",
       "    <tr style=\"text-align: right;\">\n",
       "      <th></th>\n",
       "      <th>date</th>\n",
       "      <th>cdu</th>\n",
       "      <th>spd</th>\n",
       "      <th>grüne</th>\n",
       "      <th>fdp</th>\n",
       "      <th>linke</th>\n",
       "      <th>afd</th>\n",
       "      <th>quarter</th>\n",
       "      <th>month</th>\n",
       "    </tr>\n",
       "  </thead>\n",
       "  <tbody>\n",
       "    <tr>\n",
       "      <th>0</th>\n",
       "      <td>2021-04-16</td>\n",
       "      <td>31</td>\n",
       "      <td>14</td>\n",
       "      <td>21</td>\n",
       "      <td>9</td>\n",
       "      <td>7</td>\n",
       "      <td>11</td>\n",
       "      <td>2021Q2</td>\n",
       "      <td>2021-04</td>\n",
       "    </tr>\n",
       "    <tr>\n",
       "      <th>1</th>\n",
       "      <td>2021-05-07</td>\n",
       "      <td>25</td>\n",
       "      <td>14</td>\n",
       "      <td>26</td>\n",
       "      <td>10</td>\n",
       "      <td>7</td>\n",
       "      <td>11</td>\n",
       "      <td>2021Q2</td>\n",
       "      <td>2021-05</td>\n",
       "    </tr>\n",
       "    <tr>\n",
       "      <th>2</th>\n",
       "      <td>2021-05-21</td>\n",
       "      <td>24</td>\n",
       "      <td>14</td>\n",
       "      <td>25</td>\n",
       "      <td>11</td>\n",
       "      <td>7</td>\n",
       "      <td>11</td>\n",
       "      <td>2021Q2</td>\n",
       "      <td>2021-05</td>\n",
       "    </tr>\n",
       "    <tr>\n",
       "      <th>3</th>\n",
       "      <td>2021-06-10</td>\n",
       "      <td>28</td>\n",
       "      <td>15</td>\n",
       "      <td>22</td>\n",
       "      <td>10</td>\n",
       "      <td>7</td>\n",
       "      <td>11</td>\n",
       "      <td>2021Q2</td>\n",
       "      <td>2021-06</td>\n",
       "    </tr>\n",
       "    <tr>\n",
       "      <th>4</th>\n",
       "      <td>2021-06-25</td>\n",
       "      <td>29</td>\n",
       "      <td>14</td>\n",
       "      <td>22</td>\n",
       "      <td>10</td>\n",
       "      <td>7</td>\n",
       "      <td>10</td>\n",
       "      <td>2021Q2</td>\n",
       "      <td>2021-06</td>\n",
       "    </tr>\n",
       "  </tbody>\n",
       "</table>\n",
       "</div>"
      ],
      "text/plain": [
       "        date  cdu  spd  grüne  fdp  linke  afd quarter    month\n",
       "0 2021-04-16   31   14     21    9      7   11  2021Q2  2021-04\n",
       "1 2021-05-07   25   14     26   10      7   11  2021Q2  2021-05\n",
       "2 2021-05-21   24   14     25   11      7   11  2021Q2  2021-05\n",
       "3 2021-06-10   28   15     22   10      7   11  2021Q2  2021-06\n",
       "4 2021-06-25   29   14     22   10      7   10  2021Q2  2021-06"
      ]
     },
     "execution_count": 21,
     "metadata": {},
     "output_type": "execute_result"
    }
   ],
   "source": [
    "wahlen.head()"
   ]
  },
  {
   "cell_type": "markdown",
   "id": "7977a5aa-0c84-44ee-b63d-91194fedb433",
   "metadata": {},
   "source": [
    "## Export"
   ]
  },
  {
   "cell_type": "code",
   "execution_count": 22,
   "id": "db0d1bcd-109e-4238-8fe0-8eacc38effd3",
   "metadata": {},
   "outputs": [],
   "source": [
    "kleine_parties.to_pickle(os.path.join(TEMP_PATH, \"kleine.pickle\"))"
   ]
  },
  {
   "cell_type": "code",
   "execution_count": 23,
   "id": "f252cab2-db48-4c53-9542-f689ece48c71",
   "metadata": {},
   "outputs": [],
   "source": [
    "große_parties.to_pickle(os.path.join(TEMP_PATH, \"große.pickle\"))"
   ]
  },
  {
   "cell_type": "code",
   "execution_count": 24,
   "id": "45aea5f1-0e96-4e90-bb73-3f9680510355",
   "metadata": {},
   "outputs": [],
   "source": [
    "wahlen.to_pickle(os.path.join(TEMP_PATH, \"wahlen.pickle\"))"
   ]
  }
 ],
 "metadata": {
  "kernelspec": {
   "display_name": "Python 3 (ipykernel)",
   "language": "python",
   "name": "python3"
  },
  "language_info": {
   "codemirror_mode": {
    "name": "ipython",
    "version": 3
   },
   "file_extension": ".py",
   "mimetype": "text/x-python",
   "name": "python",
   "nbconvert_exporter": "python",
   "pygments_lexer": "ipython3",
   "version": "3.11.5"
  }
 },
 "nbformat": 4,
 "nbformat_minor": 5
}
