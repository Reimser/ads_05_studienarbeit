{
 "cells": [
  {
   "cell_type": "markdown",
   "id": "556f0f26",
   "metadata": {},
   "source": [
    "# PDF"
   ]
  },
  {
   "cell_type": "code",
   "execution_count": 7,
   "id": "d5534d44-f79c-4231-9fc9-7578e6592bd7",
   "metadata": {},
   "outputs": [],
   "source": [
    "import PyPDF2\n",
    "\n",
    "\n",
    "def merge_pdfs(paths, output):\n",
    "    pdf_writer = PyPDF2.PdfWriter()\n",
    "\n",
    "    for path in paths:\n",
    "        pdf_reader = PyPDF2.PdfReader(path)\n",
    "        # Verwenden von len() anstatt getNumPages()\n",
    "        for page in range(len(pdf_reader.pages)):\n",
    "            # Add each page to the writer object\n",
    "            pdf_writer.add_page(pdf_reader.pages[page])\n",
    "\n",
    "    # Write out the merged PDF\n",
    "    with open(output, 'wb') as out:\n",
    "        pdf_writer.write(out)\n",
    "\n",
    "\n",
    "\n",
    "# Liste der PDF-Dateien, die zusammengeführt werden sollen\n",
    "#pdf_files = [\"/Users/dennis/Desktop/DBU/ads-03/ads-03-Studienarbeit/temp/DWH-bauen.ipynb.pdf\" ,\n",
    "             \"/Users/dennis/Desktop/DBU/ads-03/ads-03-Studienarbeit/temp/Analyze-trans.ipynb.pdf\",\n",
    "             \"/Users/dennis/Desktop/DBU/ads-03/ads-03-Studienarbeit/temp/Visualize.ipynb.pdf\"\n",
    "]\n",
    "# Ziel-PDF-Dateiname\n",
    "output_file = \"ads-03-Anhang.pdf\"\n",
    "merge_pdfs(pdf_files, output_file)\n"
   ]
  }
 ],
 "metadata": {
  "kernelspec": {
   "display_name": "Python 3 (ipykernel)",
   "language": "python",
   "name": "python3"
  },
  "language_info": {
   "codemirror_mode": {
    "name": "ipython",
    "version": 3
   },
   "file_extension": ".py",
   "mimetype": "text/x-python",
   "name": "python",
   "nbconvert_exporter": "python",
   "pygments_lexer": "ipython3",
   "version": "3.11.5"
  }
 },
 "nbformat": 4,
 "nbformat_minor": 5
}
